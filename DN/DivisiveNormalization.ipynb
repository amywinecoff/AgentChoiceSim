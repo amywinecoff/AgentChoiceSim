{
 "cells": [
  {
   "cell_type": "code",
   "execution_count": 1,
   "metadata": {},
   "outputs": [],
   "source": [
    "import numpy as np\n",
    "import pandas as pd\n",
    "from scipy.stats import norm, chi2\n",
    "import sys"
   ]
  },
  {
   "cell_type": "code",
   "execution_count": 2,
   "metadata": {},
   "outputs": [],
   "source": [
    "def DivisiveNormalization(theta, data):\n",
    "    denom = theta[0] + np.multiply(theta[1], np.linalg.norm(data, theta[2], 1))\n",
    "    v=np.divide(data.T, denom)\n",
    "    \n",
    "    return v"
   ]
  },
  {
   "cell_type": "code",
   "execution_count": 3,
   "metadata": {},
   "outputs": [],
   "source": [
    "def calcPiProbitQuad(Mi, v):\n",
    "    \n",
    "    MiT=np.transpose(Mi, axes=(0,2,1))\n",
    "    T=v.shape[0]\n",
    "    [x, w] = np.polynomial.hermite.hermgauss(100)\n",
    "\n",
    "    #I honestly don't really know how tensordot works, but these lines of code return the correct values\n",
    "    c = np.tensordot(MiT,v, axes=([1,0]))\n",
    "    cT=np.transpose(c, axes=(0,2,1))\n",
    "    vi = cT.diagonal() #This matches vi in MATLAB for s=1, trials 8,10,14\n",
    "    \n",
    "    #first part of equation in ProbaChoice.m, line 242\n",
    "    z1=np.multiply(-2**0.5, vi)\n",
    "\n",
    "    #second part of equation in ProbaChoice.m, line 242\n",
    "    z2=np.multiply(-2**0.5, x)\n",
    "\n",
    "    #These values have been validated\n",
    "    zz = [z1-ele for ele in z2]\n",
    "\n",
    "    aa=np.prod(norm.cdf(zz), axis=1)\n",
    "    #Pi have been validated\n",
    "    Pi=np.divide(np.sum(np.multiply(w.reshape(100,1), aa), axis=0), np.pi**0.5)\n",
    "    \n",
    "    return Pi\n",
    "    "
   ]
  },
  {
   "cell_type": "code",
   "execution_count": 4,
   "metadata": {},
   "outputs": [],
   "source": [
    "def calcPiChosen(v, choices):\n",
    "    \n",
    "    \"\"\"v is values from DivisiveNormalization, choices is an array of containing the indices of the chosen options\"\"\"\n",
    "\n",
    "    probs = np.empty((v.shape[1], v.shape[0]))#reverse shape from the data\n",
    "    #get the size of the choice array. Choice arrays must be the same size\n",
    "    Jm=v.shape[0]\n",
    "    temp = np.identity(Jm-1)\n",
    "    M = np.empty((Jm, Jm-1, Jm))\n",
    "\n",
    "\n",
    "    for i in range(Jm):\n",
    "        M[i] = np.concatenate((temp[:,0:i], -1*np.ones((Jm-1,1)), temp[:, i:]), axis=1)\n",
    "\n",
    "    Mi=M[choices]\n",
    "    pi = calcPiProbitQuad(Mi, v)\n",
    "    \n",
    "    return pi"
   ]
  },
  {
   "cell_type": "code",
   "execution_count": 5,
   "metadata": {},
   "outputs": [],
   "source": [
    "def calcPiAll(v):\n",
    "    \n",
    "    probs = np.empty((v.shape[1], v.shape[0]))#reverse shape from the data\n",
    "    #get the size of the choice array. Choice arrays must be the same size\n",
    "    Jm=v.shape[0]\n",
    "    temp = np.identity(Jm-1)\n",
    "    M = np.empty((Jm, Jm-1, Jm))\n",
    "\n",
    "\n",
    "    for i in range(Jm):\n",
    "        M[i] = np.concatenate((temp[:,0:i], -1*np.ones((Jm-1,1)), temp[:, i:]), axis=1)\n",
    "    \n",
    "    for i in range(Jm):\n",
    "        y=np.array([i]*v.shape[1])\n",
    "\n",
    "        \n",
    "        #Matrices for only the chosen options\n",
    "        Mi=M[y]\n",
    "        \n",
    "        pi=calcPiProbitQuad(Mi,v)\n",
    "        probs[:,i]=pi.T\n",
    "\n",
    "    return probs"
   ]
  },
  {
   "cell_type": "code",
   "execution_count": 6,
   "metadata": {},
   "outputs": [],
   "source": [
    "def choose_item(v):\n",
    "    probs=calcPiAll(v)\n",
    "    num_subj = v.shape[1]\n",
    "    Jm = v.shape[0]\n",
    "\n",
    "\n",
    "    cov = np.ones((Jm, Jm)) * 0.5\n",
    "    cov[np.arange(Jm), np.arange(Jm)] = 1\n",
    "    mean = np.zeros(Jm)\n",
    "    #for i in range(num_it):\n",
    "    eps = np.random.multivariate_normal(mean, cov, size=num_subj).T\n",
    "    #print(eps)\n",
    "    u = v + eps\n",
    "    item_chosen = u.argmax(axis=0)\n",
    "    \n",
    "    return item_chosen\n"
   ]
  },
  {
   "cell_type": "code",
   "execution_count": 69,
   "metadata": {},
   "outputs": [
    {
     "data": {
      "text/plain": [
       "(121, 144)"
      ]
     },
     "execution_count": 69,
     "metadata": {},
     "output_type": "execute_result"
    }
   ],
   "source": [
    "# thetaDN=[0.114, 0.177, 1]\n",
    "# v=DivisiveNormalization(theta=thetaDN, data=choice_set_vals)\n",
    "# all_pi = calcPiAll(v=v)\n",
    "# chosen_pi = calcPiChosen(v=v, choices=chosen_vals)\n",
    "# ic = choose_item(v)\n",
    "#Load data from Bollen et al., 2010\n",
    "#choice = pd.read_csv('/Users/amywinecoff/Documents/CITP/Research/Github/AgentChoiceSim/co1_wide.csv')\n",
    "choice.shape"
   ]
  },
  {
   "cell_type": "code",
   "execution_count": 68,
   "metadata": {},
   "outputs": [],
   "source": [
    "#Load data from Bollen et al., 2010\n",
    "choice = pd.read_csv('/Users/amywinecoff/Documents/CITP/Research/Github/AgentChoiceSim/co1_wide.csv')  \n",
    "\n",
    "#for now, remove the conditions with 5 options so I can figure out the code for a fixed set size\n",
    "choice = choice[~choice['condition'].isin(['Top5', 'Top5_NR'])]\n",
    "\n",
    "score_cols = [c for c in choice.columns if 'score' in c]\n",
    "movie_cols = [c for c in choice.columns if 'movie' in c]\n",
    "choice_set_vals = np.array(choice[score_cols]/10)\n",
    "\n",
    "choice['chosen_num']=None\n",
    "for idx, m in enumerate(movie_cols):\n",
    "    choice['chosen_num'] = np.where(choice[m]==choice[\"choice\"], idx, choice['chosen_num'])\n",
    "chosen_vals = np.array(choice['chosen_num'].astype(int).values)\n",
    "\n",
    "chosen = choice_set_vals[np.arange(len(choice_set_vals)), chosen_vals]\n"
   ]
  },
  {
   "cell_type": "code",
   "execution_count": 66,
   "metadata": {},
   "outputs": [
    {
     "data": {
      "text/html": [
       "<div>\n",
       "<style scoped>\n",
       "    .dataframe tbody tr th:only-of-type {\n",
       "        vertical-align: middle;\n",
       "    }\n",
       "\n",
       "    .dataframe tbody tr th {\n",
       "        vertical-align: top;\n",
       "    }\n",
       "\n",
       "    .dataframe thead th {\n",
       "        text-align: right;\n",
       "    }\n",
       "</style>\n",
       "<table border=\"1\" class=\"dataframe\">\n",
       "  <thead>\n",
       "    <tr style=\"text-align: right;\">\n",
       "      <th></th>\n",
       "      <th>choice_set_variance</th>\n",
       "      <th>choice_set_min</th>\n",
       "      <th>choice_set_max</th>\n",
       "      <th>choice_set_mean</th>\n",
       "    </tr>\n",
       "    <tr>\n",
       "      <th>condition</th>\n",
       "      <th></th>\n",
       "      <th></th>\n",
       "      <th></th>\n",
       "      <th></th>\n",
       "    </tr>\n",
       "  </thead>\n",
       "  <tbody>\n",
       "    <tr>\n",
       "      <th>Lin20</th>\n",
       "      <td>0.112596</td>\n",
       "      <td>3.071429</td>\n",
       "      <td>3.992857</td>\n",
       "      <td>3.451429</td>\n",
       "    </tr>\n",
       "    <tr>\n",
       "      <th>Lin20_NR</th>\n",
       "      <td>0.180422</td>\n",
       "      <td>3.063333</td>\n",
       "      <td>4.243333</td>\n",
       "      <td>3.541500</td>\n",
       "    </tr>\n",
       "    <tr>\n",
       "      <th>Top20</th>\n",
       "      <td>0.007317</td>\n",
       "      <td>3.734483</td>\n",
       "      <td>4.017241</td>\n",
       "      <td>3.821379</td>\n",
       "    </tr>\n",
       "    <tr>\n",
       "      <th>Top20_NR</th>\n",
       "      <td>0.007866</td>\n",
       "      <td>3.729412</td>\n",
       "      <td>3.997059</td>\n",
       "      <td>3.812059</td>\n",
       "    </tr>\n",
       "  </tbody>\n",
       "</table>\n",
       "</div>"
      ],
      "text/plain": [
       "           choice_set_variance  choice_set_min  choice_set_max  \\\n",
       "condition                                                        \n",
       "Lin20                 0.112596        3.071429        3.992857   \n",
       "Lin20_NR              0.180422        3.063333        4.243333   \n",
       "Top20                 0.007317        3.734483        4.017241   \n",
       "Top20_NR              0.007866        3.729412        3.997059   \n",
       "\n",
       "           choice_set_mean  \n",
       "condition                   \n",
       "Lin20             3.451429  \n",
       "Lin20_NR          3.541500  \n",
       "Top20             3.821379  \n",
       "Top20_NR          3.812059  "
      ]
     },
     "execution_count": 66,
     "metadata": {},
     "output_type": "execute_result"
    }
   ],
   "source": [
    "choice['choice_set_variance']=np.var(choice_set_vals, axis=1)\n",
    "choice['choice_set_min']=np.min(choice_set_vals, axis=1)\n",
    "choice['choice_set_max']=np.max(choice_set_vals, axis=1)\n",
    "choice['choice_set_mean']=np.mean(choice_set_vals, axis=1)\n",
    "\n",
    "choice[['condition','choice_set_variance', 'choice_set_min', 'choice_set_max', 'choice_set_mean']].groupby('condition').mean().head()\n"
   ]
  },
  {
   "cell_type": "markdown",
   "metadata": {},
   "source": [
    "### Steps to Computing a Power Analysis Given an Experimental Design and value of theta\n",
    "1. Read in scores into correct np array format\n",
    "2. Chose the item given its normalized value, assuming the alternative hypothesis is true \n",
    "3. Calculate the probability of the chosen item under the alternative and null hypothesis\n",
    "4. Calcualte the LRT\n",
    "5. Rise and repeat"
   ]
  },
  {
   "cell_type": "code",
   "execution_count": 36,
   "metadata": {},
   "outputs": [],
   "source": [
    "def calcModelLL(data, theta, **kwargs):\n",
    "    \"\"\"Calculates the log likelikihood given theta values for a DN model. If a null model is being tested,\n",
    "    it will chose the item based on the alternative model, then calculate the probability of that choice, and the \n",
    "    log-likelihood given both the alternative model and the null model\n",
    "    \"\"\"\n",
    "    #This is not really right. Need to figure out how to solve the probability issue since this is calculating based on the theoretical prob, which is not the same as the observeed prob\n",
    "    ##TODO: Fix this so that it works on variable data size. Right now only running on 20-movie decisions\n",
    "    #probably need to calculate this based on the calculated u, not on the theoretical probs\n",
    "    null_theta = kwargs.get(\"null_theta\", None)\n",
    "    sim_choice = kwargs.get(\"sim_choice\", False)\n",
    "    choices = kwargs.get(\"choices\", None)\n",
    "    \n",
    "    if not sim_choice and choices is None:\n",
    "        sim_choice = True\n",
    "        print(\"Choice not specified. Defaulting to simulating choices based on alternative theta.\")\n",
    "    \n",
    "    \n",
    "    v=DivisiveNormalization(theta=theta, data=data)\n",
    "    if sim_choice:\n",
    "        item_chosen = choose_item(v)\n",
    "    else:\n",
    "        item_chosen = choices\n",
    "        \n",
    "    eps = sys.float_info.epsilon  \n",
    "    #add epsilon to all values to prevent divide by zero error\n",
    "    chosen_probs = calcPiChosen(v=v, choices=item_chosen) + eps  \n",
    "    LL = sum(np.log(chosen_probs))\n",
    "        \n",
    "    \n",
    "    if null_theta:\n",
    "        v_null=DivisiveNormalization(theta=null_theta, data=data)\n",
    "        null_chosen_probs = calcPiChosen(v=v_null, choices=item_chosen) + eps\n",
    "        nullLL = sum(np.log(null_chosen_probs))\n",
    "            \n",
    "        return LL, nullLL\n",
    "    \n",
    "    return LL\n",
    "    "
   ]
  },
  {
   "cell_type": "code",
   "execution_count": 31,
   "metadata": {},
   "outputs": [],
   "source": [
    "def MCPowerSimulation(data, alt_theta, null_theta, dof, iterations=1000, alpha=0.05):\n",
    "    \n",
    "    simulation_stats = []\n",
    "    \n",
    "    for i in range(iterations):\n",
    "        LL, nullLL = calcModelLL(data=choice_set_vals, theta=thetaDN, null_theta=thetaDNNull, sim_choice=True)\n",
    "        \n",
    "        LR = 2*(LL-nullLL)\n",
    "        #consider using chi2.sf since sometimes it is more accurate? https://docs.scipy.org/doc/scipy/reference/generated/scipy.stats.chi2.html\n",
    "        p=1 - chi2.cdf(LR, dof)\n",
    "        \n",
    "        simulation_stats.append([i, LL, nullLL, LR, p])\n",
    "    \n",
    "    simulation_df = pd.DataFrame(simulation_stats,columns = [\"iter\",\"altLL\", \"nullLL\", \"LR\", \"p\"])\n",
    "    \n",
    "    sig_iters = simulation_df[simulation_df[\"p\"]< alpha]\n",
    "    \n",
    "    power = sig_iters.shape[0] / simulation_df.shape[0]\n",
    "    \n",
    "    return power, simulation_df"
   ]
  },
  {
   "cell_type": "code",
   "execution_count": 32,
   "metadata": {},
   "outputs": [],
   "source": [
    "thetaDN3=[0.114, 0.177, 1]#Webb 2020 sigma and omega only for trinary choice\n",
    "thetaDNNull3 = [thetaDN3[0] 0, 1]#Fix omega to 0 to test hypothesis that normalization occurrs\n",
    "power3, df3 = MCPowerSimulation(data=choice_set_vals, alt_theta=thetaDN3, null_theta=thetaDNNull3, dof=1)"
   ]
  },
  {
   "cell_type": "code",
   "execution_count": 33,
   "metadata": {},
   "outputs": [
    {
     "data": {
      "text/plain": [
       "0.992"
      ]
     },
     "execution_count": 33,
     "metadata": {},
     "output_type": "execute_result"
    }
   ],
   "source": [
    "power3"
   ]
  },
  {
   "cell_type": "code",
   "execution_count": 34,
   "metadata": {},
   "outputs": [
    {
     "data": {
      "text/html": [
       "<div>\n",
       "<style scoped>\n",
       "    .dataframe tbody tr th:only-of-type {\n",
       "        vertical-align: middle;\n",
       "    }\n",
       "\n",
       "    .dataframe tbody tr th {\n",
       "        vertical-align: top;\n",
       "    }\n",
       "\n",
       "    .dataframe thead th {\n",
       "        text-align: right;\n",
       "    }\n",
       "</style>\n",
       "<table border=\"1\" class=\"dataframe\">\n",
       "  <thead>\n",
       "    <tr style=\"text-align: right;\">\n",
       "      <th></th>\n",
       "      <th>iter</th>\n",
       "      <th>altLL</th>\n",
       "      <th>nullLL</th>\n",
       "      <th>LR</th>\n",
       "      <th>p</th>\n",
       "    </tr>\n",
       "  </thead>\n",
       "  <tbody>\n",
       "    <tr>\n",
       "      <th>0</th>\n",
       "      <td>0</td>\n",
       "      <td>-361.182312</td>\n",
       "      <td>-365.877711</td>\n",
       "      <td>9.390798</td>\n",
       "      <td>2.180773e-03</td>\n",
       "    </tr>\n",
       "    <tr>\n",
       "      <th>1</th>\n",
       "      <td>1</td>\n",
       "      <td>-363.120422</td>\n",
       "      <td>-383.588871</td>\n",
       "      <td>40.936898</td>\n",
       "      <td>1.572246e-10</td>\n",
       "    </tr>\n",
       "    <tr>\n",
       "      <th>2</th>\n",
       "      <td>2</td>\n",
       "      <td>-361.064398</td>\n",
       "      <td>-365.347611</td>\n",
       "      <td>8.566427</td>\n",
       "      <td>3.424186e-03</td>\n",
       "    </tr>\n",
       "    <tr>\n",
       "      <th>3</th>\n",
       "      <td>3</td>\n",
       "      <td>-362.546792</td>\n",
       "      <td>-377.078355</td>\n",
       "      <td>29.063125</td>\n",
       "      <td>7.005784e-08</td>\n",
       "    </tr>\n",
       "    <tr>\n",
       "      <th>4</th>\n",
       "      <td>4</td>\n",
       "      <td>-362.055090</td>\n",
       "      <td>-374.110021</td>\n",
       "      <td>24.109861</td>\n",
       "      <td>9.099314e-07</td>\n",
       "    </tr>\n",
       "  </tbody>\n",
       "</table>\n",
       "</div>"
      ],
      "text/plain": [
       "   iter       altLL      nullLL         LR             p\n",
       "0     0 -361.182312 -365.877711   9.390798  2.180773e-03\n",
       "1     1 -363.120422 -383.588871  40.936898  1.572246e-10\n",
       "2     2 -361.064398 -365.347611   8.566427  3.424186e-03\n",
       "3     3 -362.546792 -377.078355  29.063125  7.005784e-08\n",
       "4     4 -362.055090 -374.110021  24.109861  9.099314e-07"
      ]
     },
     "execution_count": 34,
     "metadata": {},
     "output_type": "execute_result"
    }
   ],
   "source": [
    "df3.head()"
   ]
  },
  {
   "cell_type": "code",
   "execution_count": 26,
   "metadata": {},
   "outputs": [],
   "source": [
    "thetaDNSS=[0.985, 0.02, 1]#Webb 2020 sigma and omega only for set size choice\n",
    "thetaDNNullSS = [thetaDNSS[0], 0, 1]#Fix omega to 0 to test hypothesis that normalization occurrs\n",
    "powerSS, dfSS = MCPowerSimulation(data=choice_set_vals, alt_theta=thetaDNSS, null_theta=thetaDNNullSS, dof=1)"
   ]
  },
  {
   "cell_type": "code",
   "execution_count": 27,
   "metadata": {},
   "outputs": [
    {
     "data": {
      "text/plain": [
       "0.985"
      ]
     },
     "execution_count": 27,
     "metadata": {},
     "output_type": "execute_result"
    }
   ],
   "source": [
    "powerSS"
   ]
  },
  {
   "cell_type": "code",
   "execution_count": 70,
   "metadata": {},
   "outputs": [
    {
     "data": {
      "text/plain": [
       "-340.2286206602855"
      ]
     },
     "execution_count": 70,
     "metadata": {},
     "output_type": "execute_result"
    }
   ],
   "source": [
    "thetaDNw=[0.001, 0.442, 18.85]\n",
    "calcModelLL(data=choice_set_vals, theta=thetaDNSS, choices=chosen_vals)"
   ]
  },
  {
   "cell_type": "code",
   "execution_count": 57,
   "metadata": {},
   "outputs": [
    {
     "data": {
      "text/plain": [
       "-330.2544285156778"
      ]
     },
     "execution_count": 57,
     "metadata": {},
     "output_type": "execute_result"
    }
   ],
   "source": [
    "thetaDNwNull=[1.21, 0, 1]\n",
    "calcModelLL(data=choice_set_vals, theta=thetaDNwNull, choices=chosen_vals)"
   ]
  },
  {
   "cell_type": "code",
   "execution_count": 13,
   "metadata": {},
   "outputs": [],
   "source": [
    "#Figure out how to adapt for the current situation, if needed for testing non-nested models\n",
    "# def vuong_test(p1, p2):\n",
    "#     r\"\"\"\n",
    "#     https://gist.github.com/jseabold/6617976\n",
    "#     Vuong-test for non-nested models.\n",
    "#     Parameters\n",
    "#     ----------\n",
    "#     p1 : array-like\n",
    "#         f1(Y=y_i | x_i)\n",
    "#     p2 : array-like\n",
    "#         f2(Y=y_i | x_i)\n",
    "#     Notes\n",
    "#     -----\n",
    "#     This is hard-coded for testing Poisson vs. Zero-inflated. E.g.,\n",
    "#     it does not account for\n",
    "#     Let f_j(y_i|x_i) denote the predicted probability that random variable Y\n",
    "#     equals y_i under the assumption that the distribution is f_j(y_i|x_i) for\n",
    "#     j = 1,2. Let\n",
    "#     .. math::\n",
    "#        m_i = log(\\frac{f_1(y_i|x_i)}{f_2(y_i|x_i)})\n",
    "#     The test statistic from Vuong to test the hypothesis of Model 1 vs.\n",
    "#     Model 2 is\n",
    "#     .. math::\n",
    "#        v = \\frac{\\sqrt{n}(1/n \\sum_{i=1}^{n}m_i)}{\\sqrt{1/n \\sum_{i=1}^{n}(m_i - \\bar{m})^2}}\n",
    "#     This statistic has a limiting standard normal distribution. Values of\n",
    "#     v greater than ~2, indicate that model 1 is preferred. Values of V\n",
    "#     less than ~-2 indicate the model 2 is preferred. Values of |V| < ~2 are\n",
    "#     inconclusive.\n",
    "#     References\n",
    "#     ----------\n",
    "#     Greene, W. Econometric Analysis.\n",
    "#     Vuong, Q.H. 1989 \"Likelihood ratio tests for model selection and\n",
    "#         non-nested hypotheses.\" Econometrica. 57: 307-333.\n",
    "#     \"\"\"\n",
    "#     m = np.log(p1) - np.log(p2)\n",
    "#     n = len(m)\n",
    "#     v = n ** .5 * m.mean() / m.std()\n",
    "#     return v, stats.norm.sf(np.abs(v))"
   ]
  },
  {
   "cell_type": "code",
   "execution_count": 14,
   "metadata": {},
   "outputs": [],
   "source": [
    "# save as Python\n",
    "#!jupyter nbconvert --to script DivisiveNormalization.ipynb"
   ]
  }
 ],
 "metadata": {
  "kernelspec": {
   "display_name": "Python 3",
   "language": "python",
   "name": "python3"
  },
  "language_info": {
   "codemirror_mode": {
    "name": "ipython",
    "version": 3
   },
   "file_extension": ".py",
   "mimetype": "text/x-python",
   "name": "python",
   "nbconvert_exporter": "python",
   "pygments_lexer": "ipython3",
   "version": "3.7.9"
  }
 },
 "nbformat": 4,
 "nbformat_minor": 4
}
