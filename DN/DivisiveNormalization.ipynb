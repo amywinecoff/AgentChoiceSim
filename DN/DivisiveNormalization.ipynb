{
 "cells": [
  {
   "cell_type": "code",
   "execution_count": 1,
   "metadata": {},
   "outputs": [],
   "source": [
    "import numpy as np\n",
    "import pandas as pd\n",
    "from scipy.stats import norm, chi2\n",
    "import sys"
   ]
  },
  {
   "cell_type": "code",
   "execution_count": 3,
   "metadata": {},
   "outputs": [],
   "source": [
    "def DivisiveNormalization(theta, data):\n",
    "    denom = theta[0] + np.multiply(theta[1], np.linalg.norm(data, theta[2], 1))\n",
    "    v=np.divide(data.T, denom)\n",
    "    \n",
    "    return v"
   ]
  },
  {
   "cell_type": "code",
   "execution_count": 4,
   "metadata": {},
   "outputs": [],
   "source": [
    "def calcPiProbitQuad(Mi, v):\n",
    "    \n",
    "    MiT=np.transpose(Mi, axes=(0,2,1))\n",
    "    T=v.shape[0]\n",
    "    [x, w] = np.polynomial.hermite.hermgauss(100)\n",
    "\n",
    "    #I honestly don't really know how tensordot works, but these lines of code return the correct values\n",
    "    c = np.tensordot(MiT,v, axes=([1,0]))\n",
    "    cT=np.transpose(c, axes=(0,2,1))\n",
    "    vi = cT.diagonal() #This matches vi in MATLAB for s=1, trials 8,10,14\n",
    "    \n",
    "    #first part of equation in ProbaChoice.m, line 242\n",
    "    z1=np.multiply(-2**0.5, vi)\n",
    "\n",
    "    #second part of equation in ProbaChoice.m, line 242\n",
    "    z2=np.multiply(-2**0.5, x)\n",
    "\n",
    "    #These values have been validated\n",
    "    zz = [z1-ele for ele in z2]\n",
    "\n",
    "    aa=np.prod(norm.cdf(zz), axis=1)\n",
    "    #Pi have been validated\n",
    "    Pi=np.divide(np.sum(np.multiply(w.reshape(100,1), aa), axis=0), np.pi**0.5)\n",
    "    \n",
    "    return Pi\n",
    "    "
   ]
  },
  {
   "cell_type": "code",
   "execution_count": 47,
   "metadata": {},
   "outputs": [],
   "source": [
    "def calcPiChosen(theta, data, choices, compute_DN=True, **kwargs):\n",
    "    \n",
    "    if compute_DN:\n",
    "        v=DivisiveNormalization(theta=theta, data=data)\n",
    "    else:\n",
    "        v = kwargs.get(\"v\", None)\n",
    "    \n",
    "    probs = np.empty(data.shape)\n",
    "    #get the size of the choice array. Choice arrays must be the same size\n",
    "    Jm=data.shape[1]\n",
    "    temp = np.identity(Jm-1)\n",
    "    M = np.empty((Jm, Jm-1, Jm))\n",
    "\n",
    "\n",
    "    for i in range(Jm):\n",
    "        M[i] = np.concatenate((temp[:,0:i], -1*np.ones((Jm-1,1)), temp[:, i:]), axis=1)\n",
    "\n",
    "    Mi=M[choices]\n",
    "    pi = calcPiProbitQuad(Mi, v)\n",
    "    \n",
    "    return pi"
   ]
  },
  {
   "cell_type": "code",
   "execution_count": 19,
   "metadata": {},
   "outputs": [],
   "source": [
    "# data=choice_set_vals\n",
    "# choices = chosen_vals\n",
    "# v=DivisiveNormalization(theta=thetaDN, data=choice_set_vals)\n",
    "# probs = np.empty(data.shape)\n",
    "# #get the size of the choice array. Choice arrays must be the same size\n",
    "# Jm=data.shape[1]\n",
    "# temp = np.identity(Jm-1)\n",
    "# M = np.empty((Jm, Jm-1, Jm))\n",
    "\n",
    "\n",
    "\n",
    "\n",
    "# for i in range(Jm):\n",
    "#     M[i] = np.concatenate((temp[:,0:i], -1*np.ones((Jm-1,1)), temp[:, i:]), axis=1)\n",
    "\n",
    "# Mi=M[chosen_vals]\n",
    "# pi = calcPiProbitQuad(Mi, v)"
   ]
  },
  {
   "cell_type": "code",
   "execution_count": 5,
   "metadata": {},
   "outputs": [],
   "source": [
    "def calcPiAll(theta, data):\n",
    "    \n",
    "    v=DivisiveNormalization(theta, data)\n",
    "    \n",
    "    probs = np.empty(data.shape)\n",
    "    #get the size of the choice array. Choice arrays must be the same size\n",
    "    Jm=data.shape[1]\n",
    "    temp = np.identity(Jm-1)\n",
    "    M = np.empty((Jm, Jm-1, Jm))\n",
    "\n",
    "\n",
    "    for i in range(Jm):\n",
    "        M[i] = np.concatenate((temp[:,0:i], -1*np.ones((Jm-1,1)), temp[:, i:]), axis=1)\n",
    "    \n",
    "    for i in range(Jm):\n",
    "        y=np.array([i]*data.shape[0])\n",
    "        #print(y)\n",
    "        \n",
    "        #Matrices for only the chosen options\n",
    "        Mi=M[y]\n",
    "        #print(Mi)\n",
    "        \n",
    "        pi=calcPiProbitQuad(Mi,v)\n",
    "        probs[:,i]=pi.T\n",
    "        #print(\"pi is {}\".format(pi))\n",
    "    return probs"
   ]
  },
  {
   "cell_type": "code",
   "execution_count": 77,
   "metadata": {},
   "outputs": [],
   "source": [
    "def chose_item(theta, data, return_utility=False):\n",
    "    probs=calcPiAll(theta=theta, data=data)\n",
    "    num_subj = data.shape[0]\n",
    "    Jm = data.shape[1]\n",
    "\n",
    "    v = DivisiveNormalization(theta=theta, data=data)\n",
    "\n",
    "    cov = np.ones((Jm, Jm)) * 0.5\n",
    "    cov[np.arange(Jm), np.arange(Jm)] = 1\n",
    "    mean = np.zeros(Jm)\n",
    "    #for i in range(num_it):\n",
    "    eps = np.random.multivariate_normal(mean, cov, size=num_subj).T\n",
    "    #print(eps)\n",
    "    u = v + eps\n",
    "    item_chosen = u.argmax(axis=0)\n",
    "    \n",
    "    if return_utility:\n",
    "        return item_chosen, u\n",
    "    else:\n",
    "        return item_chosen\n"
   ]
  },
  {
   "cell_type": "code",
   "execution_count": 50,
   "metadata": {},
   "outputs": [],
   "source": [
    "#item_chosen, utility = chose_item(theta=thetaDN, data=choice_set_vals, return_utility=True)\n",
    "#item_chosen, utility = chose_item(theta=theta, data=data, return_utility=True) \n",
    "    \n",
    "#chosen_probs = calcPiChosen(theta=thetaDN, data=choice_set_vals, choices=item_chosen, compute_DN=False, v=utility)\n",
    "#probs = calcPiChosen(theta=thetaDN, data=choice_set_vals, choices=item_chosen)"
   ]
  },
  {
   "cell_type": "code",
   "execution_count": 51,
   "metadata": {},
   "outputs": [
    {
     "data": {
      "text/plain": [
       "array([0.05067833, 0.04932959, 0.05233648, 0.04869672, 0.04939065,\n",
       "       0.04994267, 0.04921606, 0.04861186, 0.04702758, 0.04940131,\n",
       "       0.04785192, 0.05806789, 0.05074143, 0.04461944, 0.05241813,\n",
       "       0.04964373, 0.05023651, 0.04910548, 0.04983168, 0.04631339,\n",
       "       0.05004627, 0.05044568, 0.05030846, 0.04972277, 0.04851939,\n",
       "       0.05046718, 0.04932908, 0.04361602, 0.05686752, 0.04994705,\n",
       "       0.04946589, 0.05142896, 0.05434028, 0.04838589, 0.0491843 ,\n",
       "       0.05741014, 0.04983541, 0.04517124, 0.05184058, 0.05502792,\n",
       "       0.04859988, 0.05523065, 0.04759689, 0.04925558, 0.04965296,\n",
       "       0.06064578, 0.05557062, 0.04430633, 0.05097432, 0.04919554,\n",
       "       0.05342853, 0.05201958, 0.05087096, 0.04977667, 0.04881539,\n",
       "       0.04954218, 0.05694637, 0.05514526, 0.04586673, 0.0512188 ,\n",
       "       0.04994239, 0.04884701, 0.04965848, 0.04554893, 0.04901566,\n",
       "       0.04719087, 0.0482337 , 0.0572407 , 0.04754371, 0.04895584,\n",
       "       0.04978869, 0.05594186, 0.05      , 0.04989403, 0.05125982,\n",
       "       0.04694476, 0.05311483, 0.05824715, 0.04999482, 0.05178282,\n",
       "       0.05065968, 0.04038012, 0.0510023 , 0.04933482, 0.04989808,\n",
       "       0.04707713, 0.04441399, 0.05441775, 0.04965391, 0.05061315,\n",
       "       0.05028728, 0.05080314, 0.05232885, 0.04907732, 0.04623528,\n",
       "       0.04844591, 0.05250205, 0.05050483, 0.04958841, 0.04852228,\n",
       "       0.05340414, 0.0486491 , 0.04618353, 0.06103454, 0.04989434,\n",
       "       0.05011065, 0.0510008 , 0.05058045, 0.04910826, 0.04781904,\n",
       "       0.04979856, 0.04833869, 0.05601571, 0.05004999, 0.05126351,\n",
       "       0.04989973, 0.04889458, 0.04798477, 0.04963425, 0.04920106,\n",
       "       0.04924528])"
      ]
     },
     "execution_count": 51,
     "metadata": {},
     "output_type": "execute_result"
    }
   ],
   "source": [
    "probs"
   ]
  },
  {
   "cell_type": "code",
   "execution_count": 49,
   "metadata": {},
   "outputs": [
    {
     "data": {
      "text/plain": [
       "array([0.33985989, 0.51910933, 0.19556666, 0.22958043, 0.28236234,\n",
       "       0.25740071, 0.2850636 , 0.57648276, 0.3640491 , 0.46651057,\n",
       "       0.25928401, 0.38885703, 0.27520808, 0.55783343, 0.51220286,\n",
       "       0.49333278, 0.64197997, 0.9647931 , 0.32171358, 0.20929643,\n",
       "       0.20941335, 0.31502702, 0.20472493, 0.23600778, 0.28276203,\n",
       "       0.2050716 , 0.33889212, 0.44857318, 0.28044371, 0.33882104,\n",
       "       0.24526206, 0.24421668, 0.25835342, 0.21339425, 0.19061498,\n",
       "       0.25009143, 0.41370148, 0.39239902, 0.32543598, 0.33903065,\n",
       "       0.43318115, 0.42340619, 0.22165985, 0.53722598, 0.45154781,\n",
       "       0.38326654, 0.17037961, 0.21061661, 0.23774143, 0.47699112,\n",
       "       0.31709306, 0.32851718, 0.26282185, 0.27241978, 0.26501491,\n",
       "       0.28141751, 0.29833908, 0.31139778, 0.22010629, 0.69062294,\n",
       "       0.34119979, 0.3422035 , 0.4525259 , 0.27833535, 0.27788647,\n",
       "       0.30615307, 0.21178032, 0.31309786, 0.22054728, 0.38196631,\n",
       "       0.35412216, 0.49414019, 0.27463856, 0.30055389, 0.30766655,\n",
       "       0.20022006, 0.23810773, 0.31319776, 0.66055128, 0.29579059,\n",
       "       0.29362208, 0.64756847, 0.21816565, 0.43607464, 0.25566067,\n",
       "       0.62497142, 0.34007442, 0.28246487, 0.42516007, 0.28139372,\n",
       "       0.16308729, 0.2432097 , 0.26438519, 0.57281104, 0.24106369,\n",
       "       0.28343198, 0.5817534 , 0.19065719, 0.50181597, 0.28543197,\n",
       "       0.36857731, 0.26034467, 0.70609902, 0.67583769, 0.32639238,\n",
       "       0.55623613, 0.50465671, 0.35257942, 0.40154243, 0.20494714,\n",
       "       0.35994309, 0.33766834, 0.60557905, 0.12726079, 0.28831339,\n",
       "       0.33022039, 0.43068714, 0.6503645 , 0.18083054, 0.31796701,\n",
       "       0.83726325])"
      ]
     },
     "execution_count": 49,
     "metadata": {},
     "output_type": "execute_result"
    }
   ],
   "source": [
    "chosen_probs"
   ]
  },
  {
   "cell_type": "code",
   "execution_count": 6,
   "metadata": {},
   "outputs": [],
   "source": [
    "#Load data from Bollen et al., 2010\n",
    "choice = pd.read_csv('/Users/amywinecoff/Documents/CITP/Research/Github/AgentChoiceSim/co1_wide.csv')  \n",
    "\n",
    "#for now, remove the conditions with 5 options so I can figure out the code for a fixed set size\n",
    "choice = choice[~choice['condition'].isin(['Top5', 'Top5_NR'])]\n",
    "\n",
    "score_cols = [c for c in choice.columns if 'score' in c]\n",
    "movie_cols = [c for c in choice.columns if 'movie' in c]\n",
    "choice_set_vals = np.array(choice[score_cols]/10)\n",
    "\n",
    "choice['chosen_num']=None\n",
    "for idx, m in enumerate(movie_cols):\n",
    "    choice['chosen_num'] = np.where(choice[m]==choice[\"choice\"], idx, choice['chosen_num'])\n",
    "chosen_vals = np.array(choice['chosen_num'].astype(int).values)\n",
    "\n",
    "chosen = choice_set_vals[np.arange(len(choice_set_vals)), chosen_vals]\n"
   ]
  },
  {
   "cell_type": "markdown",
   "metadata": {},
   "source": [
    "# Simulation of user choices\n",
    "We simulate 100,000 trials of each of the 3 choice sets and use the values yielded by the `DivisiveNormalization` method + a random noise vector and check that the choice probabilities are roughly in line with the analytic probabilities from `calcPiProbitQuad`."
   ]
  },
  {
   "cell_type": "code",
   "execution_count": 74,
   "metadata": {},
   "outputs": [
    {
     "data": {
      "text/plain": [
       "array([[ 1.18240827,  0.4750277 ,  0.49432965, ..., -0.84551732,\n",
       "         0.74413817, -0.86944711],\n",
       "       [ 0.74339641,  2.21254872, -0.32288456, ..., -0.30815154,\n",
       "         1.89320935, -0.67915574],\n",
       "       [ 0.37245565,  1.6431992 ,  1.34284343, ...,  1.10368014,\n",
       "         2.22929224,  0.11528717],\n",
       "       ...,\n",
       "       [ 0.36520412,  0.97498967,  0.3999641 , ...,  1.41150469,\n",
       "         0.39762537,  0.19062542],\n",
       "       [ 0.61083784,  1.78475857,  0.37102898, ...,  0.63663223,\n",
       "         2.27736603, -0.91682929],\n",
       "       [-0.3418495 ,  0.45592201,  1.16147606, ..., -1.19606249,\n",
       "         1.70533312,  1.23852719]])"
      ]
     },
     "execution_count": 74,
     "metadata": {},
     "output_type": "execute_result"
    }
   ],
   "source": [
    "#v.shape\n"
   ]
  },
  {
   "cell_type": "code",
   "execution_count": 90,
   "metadata": {},
   "outputs": [
    {
     "name": "stdout",
     "output_type": "stream",
     "text": [
      "[0 0 0 0 0 0 0 0 0 0 0 0 0 0 0 0 0 0 0 0 0 0 0 0 0 0 0 0 0 0 0 0 0 0 0 0 0\n",
      " 0 0 0 0 0 0 0 0 0 0 0 0 0 0 0 0 0 0 0 0 0 0 0 0 0 0 0 0 0 0 0 0 0 0 0 0 0\n",
      " 0 0 0 0 0 0 0 0 0 0 0 0 0 0 0 0 0 0 0 0 0 0 0 0 0 0 0 0 0 0 0 0 0 0 0 0 0\n",
      " 0 0 0 0 0 0 0 0 0 0]\n",
      "[16  3 19 18  5  3  1 15  5  1  2  2  6  3 12 14  0 17 11 15  4 19 11  4\n",
      " 15 18 10  8  1 16  5  3 10  7  9 17 18 11 19 11 11  2  7 16 15 16 14  0\n",
      " 12  0 15 18 10 18 14  9 17  6  5  3 16 17  5  4 15  2  4  2 17  3  9  1\n",
      "  5  6  1 12 18  0 12 15  3 16  2 19 12 16 15  1 12  2  7  6  6 13  8  4\n",
      " 16 19  1  2  9  1 14  8 11 19 15 18 11  2  4  5  1 18 17 13  6 18 11 17\n",
      "  8]\n",
      "-360.98094776750617\n"
     ]
    }
   ],
   "source": [
    "v = DivisiveNormalization(theta=thetaDN, data=choice_set_vals)\n",
    "ic, u = chose_item(theta=thetaDN, data=choice_set_vals, return_utility=True)\n",
    "pi=calcPiChosen(theta=thetaDN, data=choice_set_vals, choices=ic)\n",
    "print(np.argmax(v, axis=0))\n",
    "print(np.argmax(u, axis=0))\n",
    "print(sum(np.log(pi)))"
   ]
  },
  {
   "cell_type": "code",
   "execution_count": 91,
   "metadata": {},
   "outputs": [
    {
     "name": "stdout",
     "output_type": "stream",
     "text": [
      "[0 0 0 0 0 0 0 0 0 0 0 0 0 0 0 0 0 0 0 0 0 0 0 0 0 0 0 0 0 0 0 0 0 0 0 0 0\n",
      " 0 0 0 0 0 0 0 0 0 0 0 0 0 0 0 0 0 0 0 0 0 0 0 0 0 0 0 0 0 0 0 0 0 0 0 0 0\n",
      " 0 0 0 0 0 0 0 0 0 0 0 0 0 0 0 0 0 0 0 0 0 0 0 0 0 0 0 0 0 0 0 0 0 0 0 0 0\n",
      " 0 0 0 0 0 0 0 0 0 0]\n",
      "[16  3 19 18  5  3  1 15  5  1  2  2  6  3 12 14  0 17 11 15  4 19 11  4\n",
      " 15 18 10  8  1 16  5  3 10  7  9 17 18 11 19 11 11  2  7 16 15 16 14  0\n",
      " 12  0 15 18 10 18 14  9 17  6  5  3 16 17  5  4 15  2  4  2 17  3  9  1\n",
      "  5  6  1 12 18  0 12 15  3 16  2 19 12 16 15  1 12  2  7  6  6 13  8  4\n",
      " 16 19  1  2  9  1 14  8 11 19 15 18 11  2  4  5  1 18 17 13  6 18 11 17\n",
      "  8]\n",
      "-2085.6292119782784\n"
     ]
    }
   ],
   "source": [
    "#v = DivisiveNormalization(theta=thetaDNNull, data=choice_set_vals)\n",
    "#ic, u = chose_item(theta=thetaDNNull, data=choice_set_vals, return_utility=True)\n",
    "pi=calcPiChosen(theta=thetaDNNull, data=choice_set_vals, choices=ic)\n",
    "#print(np.argmax(v, axis=0))\n",
    "#print(np.argmax(u, axis=0))\n",
    "print(sum(np.log(pi)))"
   ]
  },
  {
   "cell_type": "code",
   "execution_count": 61,
   "metadata": {},
   "outputs": [
    {
     "ename": "NameError",
     "evalue": "name 'y' is not defined",
     "output_type": "error",
     "traceback": [
      "\u001b[0;31m---------------------------------------------------------------------------\u001b[0m",
      "\u001b[0;31mNameError\u001b[0m                                 Traceback (most recent call last)",
      "\u001b[0;32m<ipython-input-61-9a19f21d8464>\u001b[0m in \u001b[0;36m<module>\u001b[0;34m\u001b[0m\n\u001b[1;32m     20\u001b[0m     \u001b[0meps\u001b[0m \u001b[0;34m=\u001b[0m \u001b[0mnp\u001b[0m\u001b[0;34m.\u001b[0m\u001b[0mrandom\u001b[0m\u001b[0;34m.\u001b[0m\u001b[0mmultivariate_normal\u001b[0m\u001b[0;34m(\u001b[0m\u001b[0mmean\u001b[0m\u001b[0;34m,\u001b[0m \u001b[0mcov\u001b[0m\u001b[0;34m,\u001b[0m \u001b[0msize\u001b[0m\u001b[0;34m=\u001b[0m\u001b[0;36m3\u001b[0m\u001b[0;34m)\u001b[0m\u001b[0;34m.\u001b[0m\u001b[0mT\u001b[0m\u001b[0;34m\u001b[0m\u001b[0;34m\u001b[0m\u001b[0m\n\u001b[1;32m     21\u001b[0m     \u001b[0mu\u001b[0m \u001b[0;34m=\u001b[0m \u001b[0mv\u001b[0m \u001b[0;34m+\u001b[0m \u001b[0meps\u001b[0m\u001b[0;34m\u001b[0m\u001b[0;34m\u001b[0m\u001b[0m\n\u001b[0;32m---> 22\u001b[0;31m     \u001b[0mitem_chosen\u001b[0m \u001b[0;34m=\u001b[0m \u001b[0;34m(\u001b[0m\u001b[0mu\u001b[0m\u001b[0;34m.\u001b[0m\u001b[0margmax\u001b[0m\u001b[0;34m(\u001b[0m\u001b[0maxis\u001b[0m\u001b[0;34m=\u001b[0m\u001b[0;36m0\u001b[0m\u001b[0;34m)\u001b[0m \u001b[0;34m==\u001b[0m \u001b[0;34m(\u001b[0m\u001b[0my\u001b[0m\u001b[0;34m-\u001b[0m\u001b[0;36m1\u001b[0m\u001b[0;34m)\u001b[0m\u001b[0;34m)\u001b[0m\u001b[0;34m.\u001b[0m\u001b[0mastype\u001b[0m\u001b[0;34m(\u001b[0m\u001b[0mfloat\u001b[0m\u001b[0;34m)\u001b[0m\u001b[0;34m\u001b[0m\u001b[0;34m\u001b[0m\u001b[0m\n\u001b[0m\u001b[1;32m     23\u001b[0m     \u001b[0mfreq_chosen\u001b[0m \u001b[0;34m+=\u001b[0m \u001b[0mitem_chosen\u001b[0m \u001b[0;34m/\u001b[0m \u001b[0mnum_it\u001b[0m\u001b[0;34m\u001b[0m\u001b[0;34m\u001b[0m\u001b[0m\n\u001b[1;32m     24\u001b[0m \u001b[0;34m\u001b[0m\u001b[0m\n",
      "\u001b[0;31mNameError\u001b[0m: name 'y' is not defined"
     ]
    }
   ],
   "source": [
    "#def chose_item_dn(d, num_it=1000, theta = [0.0000, 0.2376, 0.9739])\n",
    "theta=thetaDN\n",
    "d = np.array([\n",
    "             [4, 2.33, 1.875, 1.8, 1.5, 1.495, 1.335, 1.275, 1.125, 1.09, 1, 0.925],              \n",
    "             [2.125, 2.125, 2.025, 2.0, 1.875, 1.495, 1.485, 1.335, 1.275, 1.075, 1.0, 0.625],\n",
    "             [4.0, 2.17,  2.0, 2.0, 1.875, 1.875, 1.5, 1.485, 1.335, 1.275, 1.09, 1.075],\n",
    "            ])\n",
    "freq_chosen = np.array([0., 0., 0.])\n",
    "num_it = 100000\n",
    "v = DivisiveNormalization(theta=theta, data=d)\n",
    "# the following covariance matrix has the structure\n",
    "# [ 1    0.5    ...    0.5 ]\n",
    "# [ 0.5    1    ...    0.5 ]\n",
    "# [ 0.5   ...    1    0.5  ]\n",
    "# [ 0.5   0.5   ...    1   ]\n",
    "cov = np.ones((12, 12)) * 0.5\n",
    "cov[np.arange(12), np.arange(12)] = 1\n",
    "mean = np.zeros(12)\n",
    "for i in range(num_it):\n",
    "    eps = np.random.multivariate_normal(mean, cov, size=3).T\n",
    "    u = v + eps\n",
    "    item_chosen = (u.argmax(axis=0) == (y-1)).astype(float)\n",
    "    freq_chosen += item_chosen / num_it\n",
    "    \n",
    "print(freq_chosen)"
   ]
  },
  {
   "cell_type": "markdown",
   "metadata": {},
   "source": [
    "###Steps to Computing a Power Analysis Given an Experimental Design and value of theta\n",
    "1. Read in scores into correct np array format\n",
    "2. Chose the item given its normalized value \n",
    "3. Calculate the probability of the chosen item (based on u rather than strict probabilities for option values?)"
   ]
  },
  {
   "cell_type": "code",
   "execution_count": null,
   "metadata": {},
   "outputs": [],
   "source": [
    "\n",
    "d = choice_set_vals.values\n",
    "#sigma, omega(w), beta\n",
    "#theta_h1 = [0.0000, 0.2376, 0.9739]\n",
    "probs=calcPiAll(theta=t, data=d)\n",
    "print(probs)"
   ]
  },
  {
   "cell_type": "code",
   "execution_count": 99,
   "metadata": {},
   "outputs": [],
   "source": [
    "def calcModelLL(data, theta, null_theta=None, value_form='utility'):\n",
    "    \"\"\"Calculates the log likelikihood given theta values for a DN model. If a null model is being tested,\n",
    "    it will chose the item based on the alternative model, then calculate the probability of that choice, and the \n",
    "    log-likelihood given both the alternative model and the null model\n",
    "    \"\"\"\n",
    "    #This is not really right. Need to figure out how to solve the probability issue since this is calculating based on the theoretical prob, which is not the same as the observeed prob\n",
    "    ##TODO: Fix this so that it works on variable data size. Right now only running on 20-movie decisions\n",
    "    #probably need to calculate this based on the calculated u, not on the theoretical probs\n",
    "    probs=calcPiAll(theta=theta, data=data)\n",
    "    #item_chosen, utility = chose_item(theta=theta, data=data, return_utility=True) \n",
    "    item_chosen = chose_item(theta=theta, data=data)\n",
    "    \n",
    "    #chosen_probs = calcPiChosen(theta=theta, data=data, item_chosen, compute_DN=False, v=utility)\n",
    "    \n",
    "    \n",
    "    chosen_probs=probs[np.arange(len(probs)), item_chosen]\n",
    "    #add epsilon to all values to prevent divide by zero error\n",
    "    chosen_probs = chosen_probs + sys.float_info.epsilon\n",
    "    LL = sum(np.log(chosen_probs))\n",
    "    \n",
    "    if null_theta:\n",
    "        null_probs=calcPiAll(theta=null_theta, data=data)\n",
    "        #add epsilon to all values to prevent divide by zero error\n",
    "        null_probs = null_probs + sys.float_info.epsilon\n",
    "        #print(\"calculating null theta\")\n",
    "        \n",
    "        null_chosen_probs = null_probs[np.arange(len(null_probs)), item_chosen]\n",
    "        #print(\"null chosen probs {}\".format(null_chosen_probs))\n",
    "        null_LL = sum(np.log(null_chosen_probs))\n",
    "    else:\n",
    "        null_LL = None\n",
    "        #null_chosen_probs = None\n",
    "    \n",
    "    return LL, null_LL\n",
    "    "
   ]
  },
  {
   "cell_type": "code",
   "execution_count": null,
   "metadata": {},
   "outputs": [],
   "source": [
    "def vuong_test(p1, p2):\n",
    "    r\"\"\"\n",
    "    https://gist.github.com/jseabold/6617976\n",
    "    Vuong-test for non-nested models.\n",
    "    Parameters\n",
    "    ----------\n",
    "    p1 : array-like\n",
    "        f1(Y=y_i | x_i)\n",
    "    p2 : array-like\n",
    "        f2(Y=y_i | x_i)\n",
    "    Notes\n",
    "    -----\n",
    "    This is hard-coded for testing Poisson vs. Zero-inflated. E.g.,\n",
    "    it does not account for\n",
    "    Let f_j(y_i|x_i) denote the predicted probability that random variable Y\n",
    "    equals y_i under the assumption that the distribution is f_j(y_i|x_i) for\n",
    "    j = 1,2. Let\n",
    "    .. math::\n",
    "       m_i = log(\\frac{f_1(y_i|x_i)}{f_2(y_i|x_i)})\n",
    "    The test statistic from Vuong to test the hypothesis of Model 1 vs.\n",
    "    Model 2 is\n",
    "    .. math::\n",
    "       v = \\frac{\\sqrt{n}(1/n \\sum_{i=1}^{n}m_i)}{\\sqrt{1/n \\sum_{i=1}^{n}(m_i - \\bar{m})^2}}\n",
    "    This statistic has a limiting standard normal distribution. Values of\n",
    "    v greater than ~2, indicate that model 1 is preferred. Values of V\n",
    "    less than ~-2 indicate the model 2 is preferred. Values of |V| < ~2 are\n",
    "    inconclusive.\n",
    "    References\n",
    "    ----------\n",
    "    Greene, W. Econometric Analysis.\n",
    "    Vuong, Q.H. 1989 \"Likelihood ratio tests for model selection and\n",
    "        non-nested hypotheses.\" Econometrica. 57: 307-333.\n",
    "    \"\"\"\n",
    "    m = np.log(p1) - np.log(p2)\n",
    "    n = len(m)\n",
    "    v = n ** .5 * m.mean() / m.std()\n",
    "    return v, stats.norm.sf(np.abs(v))"
   ]
  },
  {
   "cell_type": "code",
   "execution_count": 98,
   "metadata": {},
   "outputs": [
    {
     "data": {
      "text/plain": [
       "1.0020873020266663e-12"
      ]
     },
     "execution_count": 98,
     "metadata": {},
     "output_type": "execute_result"
    }
   ],
   "source": [
    "2*(-7944.39+7969.81)\n",
    "\n",
    "p=1 - chi2.cdf(2*(-7944.39+7969.81), 1)\n",
    "p"
   ]
  },
  {
   "cell_type": "code",
   "execution_count": 56,
   "metadata": {},
   "outputs": [],
   "source": [
    "def nestedLRT(LL, nullLL):\n",
    "    \n",
    "    df = len([ele for idx, ele in enumerate(thetaDN) if thetaDNNull[idx]!=ele])\n",
    "    LR = 2*(LL-nullLL)\n",
    "    #consider using chi2.sf since sometimes it is more accurate? https://docs.scipy.org/doc/scipy/reference/generated/scipy.stats.chi2.html\n",
    "    p=1 - chi2.cdf(LR, df)\n",
    "  \n",
    "    return LR, p"
   ]
  },
  {
   "cell_type": "code",
   "execution_count": null,
   "metadata": {},
   "outputs": [],
   "source": [
    "dnLL_preds = calc"
   ]
  },
  {
   "cell_type": "code",
   "execution_count": 130,
   "metadata": {},
   "outputs": [
    {
     "name": "stdout",
     "output_type": "stream",
     "text": [
      "dnLL = -194.3428242649589, nullLL= -195.96713139726944\n",
      "3.2486142646210965 0.0714838688552959\n"
     ]
    }
   ],
   "source": [
    "thetaDN=[0.114, 0.0005, 1]#Webb 2020 sigma and omega only\n",
    "thetaDNNull = [0.114, 0, 1]#Fix omega to 0 to test hypothesis that normalization occurrs\n",
    "dnLL, nullLL, = calcModelLL(data=choice_set_vals, theta=thetaDN, null_theta=thetaDNNull)\n",
    "print(\"dnLL = {}, nullLL= {}\".format(dnLL, nullLL))\n",
    "LR, p = nestedLRT(dnLL, nullLL)\n",
    "\n",
    "print(LR, p)"
   ]
  },
  {
   "cell_type": "code",
   "execution_count": 127,
   "metadata": {},
   "outputs": [],
   "source": [
    "thetaDNb=[0.012, 0.412, 25.74]\n",
    "dnb_probs=calcPiAll(theta=thetaDNb, data=d)"
   ]
  },
  {
   "cell_type": "code",
   "execution_count": null,
   "metadata": {},
   "outputs": [],
   "source": [
    "print(LL, nullLL)\n",
    "LR = 2*(LL-nullLL)\n",
    "print(LR)\n",
    "p=1 - chi2.cdf(LR, 2)\n",
    "print(p)"
   ]
  },
  {
   "cell_type": "code",
   "execution_count": null,
   "metadata": {},
   "outputs": [],
   "source": []
  },
  {
   "cell_type": "code",
   "execution_count": null,
   "metadata": {},
   "outputs": [],
   "source": [
    "#d = np.array([\n",
    " #            [4, 2.33, 1.875, 1.8, 1.5, 1.495, 1.335, 1.275, 1.125, 1.09, 1, 0.925],              \n",
    "  #           [2.125, 2.125, 2.025, 2.0, 1.875, 1.495, 1.485, 1.335, 1.275, 1.075, 1.0, 0.625],\n",
    "   #          [4.0, 2.17,  2.0, 2.0, 1.875, 1.875, 1.5, 1.485, 1.335, 1.275, 1.09, 1.075],\n",
    "    #        ])\n",
    "#omega allowed to vary. Set to value in Webb et al., 2020\n",
    "theta_h1 = [1.0, 0.117, 1.0]\n",
    "#This is the null model that tests that omega != 0\n",
    "theta_h0 = [theta_h1[0], 0, theta_h1[2]]\n",
    "\n",
    "LLs = calcModelLL(theta=theta_h1, data=d, null_theta=theta_h0)\n",
    "#LL_h1 = calcModelLL(theta=theta_h1, data=d)\n",
    "\n",
    "print(\"LL for H0 model: {}\".format(LLs[1]))\n",
    "print(\"LL for H1 model: {}\".format(LLs[0]))\n",
    "#print(LL_h1)#-362.68216377703664\n",
    "LR = 2*(LLs[0]-LLs[1])\n",
    "print(LR)"
   ]
  },
  {
   "cell_type": "code",
   "execution_count": null,
   "metadata": {},
   "outputs": [],
   "source": [
    "p=1 - chi2.cdf(LR, 1)\n",
    "print(p)"
   ]
  },
  {
   "cell_type": "code",
   "execution_count": null,
   "metadata": {},
   "outputs": [],
   "source": [
    "d = choice_set_vals.values\n",
    "d"
   ]
  },
  {
   "cell_type": "code",
   "execution_count": null,
   "metadata": {},
   "outputs": [],
   "source": [
    "d = choice_set_vals.values /20\n",
    "#omega allowed to vary. Set to value in Webb et al., 2020\n",
    "theta_h1 = [0.44, 0.0006, 1.0]\n",
    "#This is the null model that tests that omega != 0\n",
    "theta_h0 = [theta_h1[0], 0, theta_h1[2]]\n",
    "\n",
    "LLs = calcModelLL(theta=theta_h1, data=d, null_theta=theta_h0)\n",
    "#LL_h1 = calcModelLL(theta=theta_h1, data=d)\n",
    "\n",
    "print(\"LL for H0 model: {}\".format(LLs[1]))\n",
    "print(\"LL for H1 model: {}\".format(LLs[0]))\n",
    "#print(LL_h1)#-362.68216377703664\n",
    "LR = 2*(LLs[0]-LLs[1])\n",
    "print(LR)\n",
    "p=1 - chi2.cdf(LR, 1)\n",
    "print(p)"
   ]
  },
  {
   "cell_type": "code",
   "execution_count": null,
   "metadata": {},
   "outputs": [],
   "source": [
    "null_probs=calcPiAll(theta=theta_h0, data=d)"
   ]
  },
  {
   "cell_type": "code",
   "execution_count": null,
   "metadata": {},
   "outputs": [],
   "source": [
    "null_probs_df= pd.DataFrame(null_probs)\n",
    "null_probs_df.head(10)"
   ]
  },
  {
   "cell_type": "code",
   "execution_count": null,
   "metadata": {},
   "outputs": [],
   "source": [
    "choice_set_vals.head(10)"
   ]
  },
  {
   "cell_type": "code",
   "execution_count": null,
   "metadata": {},
   "outputs": [],
   "source": [
    "# save as Python\n",
    "#!jupyter nbconvert --to script DivisiveNormalization.ipynb"
   ]
  }
 ],
 "metadata": {
  "kernelspec": {
   "display_name": "Python 3",
   "language": "python",
   "name": "python3"
  },
  "language_info": {
   "codemirror_mode": {
    "name": "ipython",
    "version": 3
   },
   "file_extension": ".py",
   "mimetype": "text/x-python",
   "name": "python",
   "nbconvert_exporter": "python",
   "pygments_lexer": "ipython3",
   "version": "3.7.9"
  }
 },
 "nbformat": 4,
 "nbformat_minor": 4
}
