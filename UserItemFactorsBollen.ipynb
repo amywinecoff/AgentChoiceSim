{
 "cells": [
  {
   "cell_type": "code",
   "execution_count": 1,
   "metadata": {},
   "outputs": [],
   "source": [
    "import pandas as pd\n",
    "import numpy as np\n",
    "import matplotlib.pyplot as plt\n",
    "import math\n",
    "from scipy.spatial.distance import pdist, squareform, cdist\n",
    "#import scipy\n",
    "\n",
    "#from sklearn.metrics.pairwise import euclidean_distances\n",
    "from sklearn.metrics import pairwise_distances\n",
    "\n",
    "#from lenskit.datasets import ML100K\n",
    "from lenskit import batch, topn, util\n",
    "from lenskit import crossfold as xf\n",
    "from lenskit.algorithms import Recommender, als\n",
    "from lenskit import topn\n",
    "from lenskit.metrics.predict import rmse, mae\n"
   ]
  },
  {
   "cell_type": "code",
   "execution_count": 2,
   "metadata": {},
   "outputs": [],
   "source": [
    "#Load data from Bollen et al., 2010\n",
    "choice = pd.read_csv('co1_wide.csv')  \n",
    "\n",
    "\n",
    "movie_cols = ['movie'+str(num) for num in range(1,21)] +['choice']\n",
    "score_cols = ['score'+str(num) for num in range(1,21)]\n",
    "\n",
    "movies_wide = choice[movie_cols + ['userid', 'condition']].rename(columns=dict(zip(movie_cols,list(range(1,21)))))\n",
    "scores_wide = choice[score_cols + ['userid']].rename(columns=dict(zip(score_cols,list(range(1,21)))))\n",
    "\n",
    "movies_long = movies_wide.melt(id_vars=['userid', 'condition', 'choice'], var_name='array_num', value_name='movieid')\n",
    "#movies_long['item']=movies_long['movieid'].str.split(pat=\"/\", expand=True)[[3]].astype(int)\n",
    "\n",
    "scores_long = scores_wide.melt(id_vars=['userid'], value_vars=list(range(1,21)), var_name='array_num', value_name='score')\n",
    "\n",
    "#create the cartesian product of all unique movies and users for subsequent join\n",
    "unique_movies = list(pd.unique(movies_long['movieid']))\n",
    "unique_users = list(pd.unique(movies_long['userid']))\n",
    "index = pd.MultiIndex.from_product([unique_users, unique_movies], names = [\"userid\",\"movieid\"])\n",
    "movies_users_index = pd.DataFrame(index = index).reset_index()\n",
    "\n",
    "\n",
    "\n",
    "movies = pd.merge(movies_users_index, movies_long, how='left', on=[\"userid\", \"movieid\"])\n",
    "movies_scores = pd.merge(movies, scores_long, how='left', on=[\"userid\", \"array_num\"])\n",
    "\n",
    "movies_scores['chose_movie'] = np.where(movies_scores['choice']==movies_scores['movieid'], 1, 0)\n",
    "\n",
    "#problems due to NaN\n",
    "dups=movies_scores.duplicated(keep=False)\n",
    "\n",
    "#convert long form dataframe into format similar to ratings matrix\n",
    "R_df_long = movies_scores[['userid', 'movieid', 'score']].dropna()#form for surprise\n",
    "\n",
    "R_df_long['rating']=R_df_long['score']/10\n",
    "R_df_long['item']=R_df_long['movieid'].str.split(pat=\"/\", expand=True)[[3]].astype(int)\n",
    "\n",
    "ratings=R_df_long[['userid', 'item', 'rating']]\n",
    "ratings.columns=['user', 'item', 'rating']"
   ]
  },
  {
   "cell_type": "code",
   "execution_count": 3,
   "metadata": {},
   "outputs": [],
   "source": [
    "#Create the cartesian product of all possible users and movies\n",
    "unique_movies = list(pd.unique(movies_long['movieid'].dropna()))\n",
    "movie_nums = [int(m.split('/')[3]) for m in unique_movies]\n",
    "all_index = pd.MultiIndex.from_product([unique_users, movie_nums], \n",
    "                                                    names = [\"user\",\"item\"])\n",
    "all_u_i = pd.DataFrame(index=all_index).reset_index()"
   ]
  },
  {
   "cell_type": "code",
   "execution_count": 4,
   "metadata": {},
   "outputs": [
    {
     "data": {
      "text/html": [
       "<div>\n",
       "<style scoped>\n",
       "    .dataframe tbody tr th:only-of-type {\n",
       "        vertical-align: middle;\n",
       "    }\n",
       "\n",
       "    .dataframe tbody tr th {\n",
       "        vertical-align: top;\n",
       "    }\n",
       "\n",
       "    .dataframe thead th {\n",
       "        text-align: right;\n",
       "    }\n",
       "</style>\n",
       "<table border=\"1\" class=\"dataframe\">\n",
       "  <thead>\n",
       "    <tr style=\"text-align: right;\">\n",
       "      <th></th>\n",
       "      <th>user</th>\n",
       "      <th>item</th>\n",
       "    </tr>\n",
       "  </thead>\n",
       "  <tbody>\n",
       "    <tr>\n",
       "      <th>0</th>\n",
       "      <td>182</td>\n",
       "      <td>551</td>\n",
       "    </tr>\n",
       "    <tr>\n",
       "      <th>1</th>\n",
       "      <td>182</td>\n",
       "      <td>2019</td>\n",
       "    </tr>\n",
       "    <tr>\n",
       "      <th>2</th>\n",
       "      <td>182</td>\n",
       "      <td>3825</td>\n",
       "    </tr>\n",
       "    <tr>\n",
       "      <th>3</th>\n",
       "      <td>182</td>\n",
       "      <td>2764</td>\n",
       "    </tr>\n",
       "    <tr>\n",
       "      <th>4</th>\n",
       "      <td>182</td>\n",
       "      <td>1206</td>\n",
       "    </tr>\n",
       "    <tr>\n",
       "      <th>...</th>\n",
       "      <td>...</td>\n",
       "      <td>...</td>\n",
       "    </tr>\n",
       "    <tr>\n",
       "      <th>182315</th>\n",
       "      <td>163</td>\n",
       "      <td>805</td>\n",
       "    </tr>\n",
       "    <tr>\n",
       "      <th>182316</th>\n",
       "      <td>163</td>\n",
       "      <td>1810</td>\n",
       "    </tr>\n",
       "    <tr>\n",
       "      <th>182317</th>\n",
       "      <td>163</td>\n",
       "      <td>993</td>\n",
       "    </tr>\n",
       "    <tr>\n",
       "      <th>182318</th>\n",
       "      <td>163</td>\n",
       "      <td>726</td>\n",
       "    </tr>\n",
       "    <tr>\n",
       "      <th>182319</th>\n",
       "      <td>163</td>\n",
       "      <td>1981</td>\n",
       "    </tr>\n",
       "  </tbody>\n",
       "</table>\n",
       "<p>182320 rows × 2 columns</p>\n",
       "</div>"
      ],
      "text/plain": [
       "        user  item\n",
       "0        182   551\n",
       "1        182  2019\n",
       "2        182  3825\n",
       "3        182  2764\n",
       "4        182  1206\n",
       "...      ...   ...\n",
       "182315   163   805\n",
       "182316   163  1810\n",
       "182317   163   993\n",
       "182318   163   726\n",
       "182319   163  1981\n",
       "\n",
       "[182320 rows x 2 columns]"
      ]
     },
     "execution_count": 4,
     "metadata": {},
     "output_type": "execute_result"
    }
   ],
   "source": [
    "all_u_i"
   ]
  },
  {
   "cell_type": "code",
   "execution_count": 5,
   "metadata": {},
   "outputs": [
    {
     "name": "stdout",
     "output_type": "stream",
     "text": [
      "RMSE for ALS: 0.01660285426101378\n",
      "RMSE for ALS hat: 0.2547659899443631\n",
      "MAE for ALS: 0.005854656281398418\n",
      "MAE for ALS hat: 0.12020732917684518\n"
     ]
    }
   ],
   "source": [
    "#For our first model, we want the low rank representation to approximate our data as closely as possible (i.e., overfit the data). \n",
    "#This way, our \"real\" user factors come as close as possible to user factors that could reproduce the predictions\n",
    "#from the MF algorithm in Bollen et al., 2010.\n",
    "algo_als = als.BiasedMF(10, iterations=100,reg=0.0001, bias=False, rng_spec=1)\n",
    "\n",
    "algo_als.fit(ratings)\n",
    "preds_als = batch.predict(algo_als, ratings)\n",
    "\n",
    "\n",
    "#print(\"RMSE for ALS: {}\".format(rmse(preds_als['prediction'], preds_als['rating'])))\n",
    "\n",
    "algo_als_hat = als.BiasedMF(10, iterations=3,reg=0.0001, bias=False, rng_spec=1)\n",
    "\n",
    "algo_als_hat.fit(ratings)\n",
    "preds_als_hat = batch.predict(algo_als_hat, ratings)\n",
    "\n",
    "\n",
    "print(\"RMSE for ALS: {}\".format(rmse(preds_als['prediction'], preds_als['rating'])))\n",
    "print(\"RMSE for ALS hat: {}\".format(rmse(preds_als_hat['prediction'], preds_als_hat['rating'])))\n",
    "\n",
    "print(\"MAE for ALS: {}\".format(mae(preds_als['prediction'], preds_als['rating'])))\n",
    "print(\"MAE for ALS hat: {}\".format(mae(preds_als_hat['prediction'], preds_als_hat['rating'])))\n"
   ]
  },
  {
   "cell_type": "code",
   "execution_count": 6,
   "metadata": {},
   "outputs": [],
   "source": [
    "#users = ratings['user'].unique()\n",
    "#print(users)\n",
    "#recs = batch.recommend(algo_als, users)\n",
    "all_preds = batch.predict(algo_als_hat, all_u_i)"
   ]
  },
  {
   "cell_type": "code",
   "execution_count": 7,
   "metadata": {},
   "outputs": [
    {
     "data": {
      "text/html": [
       "<div>\n",
       "<style scoped>\n",
       "    .dataframe tbody tr th:only-of-type {\n",
       "        vertical-align: middle;\n",
       "    }\n",
       "\n",
       "    .dataframe tbody tr th {\n",
       "        vertical-align: top;\n",
       "    }\n",
       "\n",
       "    .dataframe thead th {\n",
       "        text-align: right;\n",
       "    }\n",
       "</style>\n",
       "<table border=\"1\" class=\"dataframe\">\n",
       "  <thead>\n",
       "    <tr style=\"text-align: right;\">\n",
       "      <th></th>\n",
       "      <th>user</th>\n",
       "      <th>item</th>\n",
       "      <th>prediction</th>\n",
       "    </tr>\n",
       "  </thead>\n",
       "  <tbody>\n",
       "    <tr>\n",
       "      <th>0</th>\n",
       "      <td>19</td>\n",
       "      <td>551</td>\n",
       "      <td>5.089715</td>\n",
       "    </tr>\n",
       "    <tr>\n",
       "      <th>1</th>\n",
       "      <td>19</td>\n",
       "      <td>2019</td>\n",
       "      <td>-2.911799</td>\n",
       "    </tr>\n",
       "    <tr>\n",
       "      <th>2</th>\n",
       "      <td>19</td>\n",
       "      <td>3825</td>\n",
       "      <td>-9.592937</td>\n",
       "    </tr>\n",
       "    <tr>\n",
       "      <th>3</th>\n",
       "      <td>19</td>\n",
       "      <td>2764</td>\n",
       "      <td>-0.234379</td>\n",
       "    </tr>\n",
       "    <tr>\n",
       "      <th>4</th>\n",
       "      <td>19</td>\n",
       "      <td>1206</td>\n",
       "      <td>-3.346746</td>\n",
       "    </tr>\n",
       "  </tbody>\n",
       "</table>\n",
       "</div>"
      ],
      "text/plain": [
       "   user  item  prediction\n",
       "0    19   551    5.089715\n",
       "1    19  2019   -2.911799\n",
       "2    19  3825   -9.592937\n",
       "3    19  2764   -0.234379\n",
       "4    19  1206   -3.346746"
      ]
     },
     "execution_count": 7,
     "metadata": {},
     "output_type": "execute_result"
    }
   ],
   "source": [
    "all_preds.head()"
   ]
  },
  {
   "cell_type": "code",
   "execution_count": 8,
   "metadata": {},
   "outputs": [
    {
     "name": "stdout",
     "output_type": "stream",
     "text": [
      "Summary statistics for 'actual' data...\n",
      "min\n",
      "user          19.000000\n",
      "item           1.000000\n",
      "rating         2.400000\n",
      "prediction     2.399999\n",
      "dtype: float64\n",
      "\n",
      "\n",
      "max\n",
      "user           251.000000\n",
      "item          3949.000000\n",
      "rating           5.000000\n",
      "prediction       5.014661\n",
      "dtype: float64\n",
      "\n",
      "\n",
      "mean\n",
      "user           143.542056\n",
      "item          1695.534579\n",
      "rating           3.685159\n",
      "prediction       3.685144\n",
      "dtype: float64\n",
      "\n",
      "\n",
      "Summary statistics for 'hat' data...\n",
      "min\n",
      "user          19.000000\n",
      "item           1.000000\n",
      "rating         2.400000\n",
      "prediction     1.254292\n",
      "dtype: float64\n",
      "\n",
      "\n",
      "max\n",
      "user           251.000000\n",
      "item          3949.000000\n",
      "rating           5.000000\n",
      "prediction       5.763938\n",
      "dtype: float64\n",
      "\n",
      "\n",
      "mean\n",
      "user           143.542056\n",
      "item          1695.534579\n",
      "rating           3.685159\n",
      "prediction       3.673479\n",
      "dtype: float64\n"
     ]
    }
   ],
   "source": [
    "print(\"Summary statistics for 'actual' data...\")\n",
    "print(\"min\")\n",
    "print(preds_als.min())\n",
    "print(\"\\n\")\n",
    "print(\"max\")\n",
    "print(preds_als.max())\n",
    "print(\"\\n\")\n",
    "print(\"mean\")\n",
    "print(preds_als.mean())\n",
    "print(\"\\n\")\n",
    "\n",
    "print(\"Summary statistics for 'hat' data...\")\n",
    "print(\"min\")\n",
    "print(preds_als_hat.min())\n",
    "print(\"\\n\")\n",
    "print(\"max\")\n",
    "print(preds_als_hat.max())\n",
    "print(\"\\n\")\n",
    "print(\"mean\")\n",
    "print(preds_als_hat.mean())"
   ]
  },
  {
   "cell_type": "code",
   "execution_count": 9,
   "metadata": {},
   "outputs": [],
   "source": [
    "item_features=pd.DataFrame(algo_als.item_features_, index=movie_nums)"
   ]
  },
  {
   "cell_type": "code",
   "execution_count": 10,
   "metadata": {},
   "outputs": [],
   "source": [
    "item_features=pd.DataFrame(algo_als.item_features_, index=movie_nums).reset_index()\n",
    "item_features_hat=pd.DataFrame(algo_als_hat.item_features_, index=movie_nums)\n",
    "\n",
    "user_features=pd.DataFrame(algo_als.user_features_, index=unique_users)\n",
    "user_features_hat=pd.DataFrame(algo_als_hat.user_features_, index=unique_users)\n",
    "\n",
    "actual_items = {i:v for i,v in zip(algo_als.item_index_, algo_als.item_features_)}\n",
    "actual_users = {u:v for u,v in zip(algo_als.user_index_, algo_als.user_features_)}\n",
    "\n",
    "hat_items = {i:v for i,v in zip(algo_als_hat.item_index_, algo_als_hat.item_features_)}\n",
    "hat_users = {u:v for u,v in zip(algo_als_hat.user_index_, algo_als_hat.user_features_)}"
   ]
  },
  {
   "cell_type": "code",
   "execution_count": 11,
   "metadata": {},
   "outputs": [
    {
     "data": {
      "text/plain": [
       "Index(['index', 0, 1, 2, 3, 4, 5, 6, 7, 8, 9], dtype='object')"
      ]
     },
     "execution_count": 11,
     "metadata": {},
     "output_type": "execute_result"
    }
   ],
   "source": [
    "item_features.columns"
   ]
  },
  {
   "cell_type": "code",
   "execution_count": 12,
   "metadata": {},
   "outputs": [
    {
     "data": {
      "text/plain": [
       "Index(['index', 0, 1, 2, 3, 4, 5, 6, 7, 8, 9], dtype='object')"
      ]
     },
     "execution_count": 12,
     "metadata": {},
     "output_type": "execute_result"
    }
   ],
   "source": [
    "item_features.columns"
   ]
  },
  {
   "cell_type": "code",
   "execution_count": 13,
   "metadata": {},
   "outputs": [],
   "source": [
    "all_preds_feats = pd.merge(all_preds, item_features, left_on='item', right_on='index').drop(columns='index')"
   ]
  },
  {
   "cell_type": "code",
   "execution_count": 14,
   "metadata": {},
   "outputs": [
    {
     "data": {
      "text/html": [
       "<div>\n",
       "<style scoped>\n",
       "    .dataframe tbody tr th:only-of-type {\n",
       "        vertical-align: middle;\n",
       "    }\n",
       "\n",
       "    .dataframe tbody tr th {\n",
       "        vertical-align: top;\n",
       "    }\n",
       "\n",
       "    .dataframe thead th {\n",
       "        text-align: right;\n",
       "    }\n",
       "</style>\n",
       "<table border=\"1\" class=\"dataframe\">\n",
       "  <thead>\n",
       "    <tr style=\"text-align: right;\">\n",
       "      <th></th>\n",
       "      <th>user</th>\n",
       "      <th>item</th>\n",
       "      <th>prediction</th>\n",
       "      <th>0</th>\n",
       "      <th>1</th>\n",
       "      <th>2</th>\n",
       "      <th>3</th>\n",
       "      <th>4</th>\n",
       "      <th>5</th>\n",
       "      <th>6</th>\n",
       "      <th>7</th>\n",
       "      <th>8</th>\n",
       "      <th>9</th>\n",
       "    </tr>\n",
       "  </thead>\n",
       "  <tbody>\n",
       "    <tr>\n",
       "      <th>64156</th>\n",
       "      <td>19</td>\n",
       "      <td>1</td>\n",
       "      <td>16.948305</td>\n",
       "      <td>-1.548257</td>\n",
       "      <td>-0.045319</td>\n",
       "      <td>-0.751157</td>\n",
       "      <td>-0.052875</td>\n",
       "      <td>-0.269830</td>\n",
       "      <td>-0.144795</td>\n",
       "      <td>0.038999</td>\n",
       "      <td>0.271114</td>\n",
       "      <td>-0.051169</td>\n",
       "      <td>-0.001139</td>\n",
       "    </tr>\n",
       "    <tr>\n",
       "      <th>139836</th>\n",
       "      <td>19</td>\n",
       "      <td>2</td>\n",
       "      <td>6.722043</td>\n",
       "      <td>0.027513</td>\n",
       "      <td>0.485471</td>\n",
       "      <td>-0.346955</td>\n",
       "      <td>0.000182</td>\n",
       "      <td>-0.142327</td>\n",
       "      <td>0.497053</td>\n",
       "      <td>-0.287489</td>\n",
       "      <td>0.104881</td>\n",
       "      <td>0.317564</td>\n",
       "      <td>0.090711</td>\n",
       "    </tr>\n",
       "    <tr>\n",
       "      <th>74648</th>\n",
       "      <td>19</td>\n",
       "      <td>7</td>\n",
       "      <td>0.923936</td>\n",
       "      <td>0.742481</td>\n",
       "      <td>0.516058</td>\n",
       "      <td>-0.255549</td>\n",
       "      <td>-0.734636</td>\n",
       "      <td>0.162527</td>\n",
       "      <td>0.386711</td>\n",
       "      <td>0.736182</td>\n",
       "      <td>-0.175698</td>\n",
       "      <td>-0.183765</td>\n",
       "      <td>-0.417835</td>\n",
       "    </tr>\n",
       "    <tr>\n",
       "      <th>44892</th>\n",
       "      <td>19</td>\n",
       "      <td>10</td>\n",
       "      <td>3.437130</td>\n",
       "      <td>0.621873</td>\n",
       "      <td>0.226003</td>\n",
       "      <td>-0.007399</td>\n",
       "      <td>0.356428</td>\n",
       "      <td>-1.044707</td>\n",
       "      <td>-0.239429</td>\n",
       "      <td>0.115518</td>\n",
       "      <td>0.329110</td>\n",
       "      <td>0.168624</td>\n",
       "      <td>0.104404</td>\n",
       "    </tr>\n",
       "    <tr>\n",
       "      <th>109908</th>\n",
       "      <td>19</td>\n",
       "      <td>16</td>\n",
       "      <td>-3.609928</td>\n",
       "      <td>0.543101</td>\n",
       "      <td>0.711567</td>\n",
       "      <td>0.138870</td>\n",
       "      <td>0.039406</td>\n",
       "      <td>0.000091</td>\n",
       "      <td>0.020364</td>\n",
       "      <td>-0.194478</td>\n",
       "      <td>-0.451202</td>\n",
       "      <td>0.005932</td>\n",
       "      <td>-0.367209</td>\n",
       "    </tr>\n",
       "    <tr>\n",
       "      <th>...</th>\n",
       "      <td>...</td>\n",
       "      <td>...</td>\n",
       "      <td>...</td>\n",
       "      <td>...</td>\n",
       "      <td>...</td>\n",
       "      <td>...</td>\n",
       "      <td>...</td>\n",
       "      <td>...</td>\n",
       "      <td>...</td>\n",
       "      <td>...</td>\n",
       "      <td>...</td>\n",
       "      <td>...</td>\n",
       "      <td>...</td>\n",
       "    </tr>\n",
       "    <tr>\n",
       "      <th>165635</th>\n",
       "      <td>251</td>\n",
       "      <td>3923</td>\n",
       "      <td>1.637322</td>\n",
       "      <td>-0.409971</td>\n",
       "      <td>-0.538277</td>\n",
       "      <td>0.177227</td>\n",
       "      <td>0.375517</td>\n",
       "      <td>-0.175836</td>\n",
       "      <td>-0.111924</td>\n",
       "      <td>-0.454722</td>\n",
       "      <td>0.210713</td>\n",
       "      <td>-0.391436</td>\n",
       "      <td>0.102341</td>\n",
       "    </tr>\n",
       "    <tr>\n",
       "      <th>52459</th>\n",
       "      <td>251</td>\n",
       "      <td>3929</td>\n",
       "      <td>-3.658906</td>\n",
       "      <td>0.358040</td>\n",
       "      <td>-0.299347</td>\n",
       "      <td>-0.316721</td>\n",
       "      <td>0.049043</td>\n",
       "      <td>-0.535703</td>\n",
       "      <td>0.137746</td>\n",
       "      <td>0.253934</td>\n",
       "      <td>-0.106500</td>\n",
       "      <td>-0.551198</td>\n",
       "      <td>0.622412</td>\n",
       "    </tr>\n",
       "    <tr>\n",
       "      <th>80839</th>\n",
       "      <td>251</td>\n",
       "      <td>3936</td>\n",
       "      <td>-1.253687</td>\n",
       "      <td>-0.555280</td>\n",
       "      <td>-0.218053</td>\n",
       "      <td>-0.188493</td>\n",
       "      <td>0.693863</td>\n",
       "      <td>0.424740</td>\n",
       "      <td>-0.155350</td>\n",
       "      <td>0.708075</td>\n",
       "      <td>0.210488</td>\n",
       "      <td>-0.413434</td>\n",
       "      <td>0.060417</td>\n",
       "    </tr>\n",
       "    <tr>\n",
       "      <th>70003</th>\n",
       "      <td>251</td>\n",
       "      <td>3945</td>\n",
       "      <td>-0.364683</td>\n",
       "      <td>4.808856</td>\n",
       "      <td>0.364956</td>\n",
       "      <td>0.547155</td>\n",
       "      <td>-0.157341</td>\n",
       "      <td>-0.380701</td>\n",
       "      <td>-0.183401</td>\n",
       "      <td>0.116229</td>\n",
       "      <td>0.099123</td>\n",
       "      <td>-0.206885</td>\n",
       "      <td>0.163830</td>\n",
       "    </tr>\n",
       "    <tr>\n",
       "      <th>11007</th>\n",
       "      <td>251</td>\n",
       "      <td>3949</td>\n",
       "      <td>1.168799</td>\n",
       "      <td>1.227820</td>\n",
       "      <td>0.545357</td>\n",
       "      <td>-0.614898</td>\n",
       "      <td>-0.133043</td>\n",
       "      <td>0.300518</td>\n",
       "      <td>-0.296029</td>\n",
       "      <td>-0.156073</td>\n",
       "      <td>-0.114417</td>\n",
       "      <td>0.215693</td>\n",
       "      <td>0.043315</td>\n",
       "    </tr>\n",
       "  </tbody>\n",
       "</table>\n",
       "<p>182320 rows × 13 columns</p>\n",
       "</div>"
      ],
      "text/plain": [
       "        user  item  prediction         0         1         2         3  \\\n",
       "64156     19     1   16.948305 -1.548257 -0.045319 -0.751157 -0.052875   \n",
       "139836    19     2    6.722043  0.027513  0.485471 -0.346955  0.000182   \n",
       "74648     19     7    0.923936  0.742481  0.516058 -0.255549 -0.734636   \n",
       "44892     19    10    3.437130  0.621873  0.226003 -0.007399  0.356428   \n",
       "109908    19    16   -3.609928  0.543101  0.711567  0.138870  0.039406   \n",
       "...      ...   ...         ...       ...       ...       ...       ...   \n",
       "165635   251  3923    1.637322 -0.409971 -0.538277  0.177227  0.375517   \n",
       "52459    251  3929   -3.658906  0.358040 -0.299347 -0.316721  0.049043   \n",
       "80839    251  3936   -1.253687 -0.555280 -0.218053 -0.188493  0.693863   \n",
       "70003    251  3945   -0.364683  4.808856  0.364956  0.547155 -0.157341   \n",
       "11007    251  3949    1.168799  1.227820  0.545357 -0.614898 -0.133043   \n",
       "\n",
       "               4         5         6         7         8         9  \n",
       "64156  -0.269830 -0.144795  0.038999  0.271114 -0.051169 -0.001139  \n",
       "139836 -0.142327  0.497053 -0.287489  0.104881  0.317564  0.090711  \n",
       "74648   0.162527  0.386711  0.736182 -0.175698 -0.183765 -0.417835  \n",
       "44892  -1.044707 -0.239429  0.115518  0.329110  0.168624  0.104404  \n",
       "109908  0.000091  0.020364 -0.194478 -0.451202  0.005932 -0.367209  \n",
       "...          ...       ...       ...       ...       ...       ...  \n",
       "165635 -0.175836 -0.111924 -0.454722  0.210713 -0.391436  0.102341  \n",
       "52459  -0.535703  0.137746  0.253934 -0.106500 -0.551198  0.622412  \n",
       "80839   0.424740 -0.155350  0.708075  0.210488 -0.413434  0.060417  \n",
       "70003  -0.380701 -0.183401  0.116229  0.099123 -0.206885  0.163830  \n",
       "11007   0.300518 -0.296029 -0.156073 -0.114417  0.215693  0.043315  \n",
       "\n",
       "[182320 rows x 13 columns]"
      ]
     },
     "execution_count": 14,
     "metadata": {},
     "output_type": "execute_result"
    }
   ],
   "source": [
    "all_preds_feats.sort_values(['user', 'item'])"
   ]
  },
  {
   "cell_type": "code",
   "execution_count": 15,
   "metadata": {},
   "outputs": [],
   "source": [
    "#t=all_preds_feats[['user', 'prediction']].groupby('user').min()\n",
    "all_preds_feats['rank']=all_preds_feats[['prediction', 'user']].groupby('user').transform('rank', ascending=False)\n",
    "#data.groupby('group').transform('rank', method='min')"
   ]
  },
  {
   "cell_type": "code",
   "execution_count": 16,
   "metadata": {},
   "outputs": [
    {
     "data": {
      "text/html": [
       "<div>\n",
       "<style scoped>\n",
       "    .dataframe tbody tr th:only-of-type {\n",
       "        vertical-align: middle;\n",
       "    }\n",
       "\n",
       "    .dataframe tbody tr th {\n",
       "        vertical-align: top;\n",
       "    }\n",
       "\n",
       "    .dataframe thead th {\n",
       "        text-align: right;\n",
       "    }\n",
       "</style>\n",
       "<table border=\"1\" class=\"dataframe\">\n",
       "  <thead>\n",
       "    <tr style=\"text-align: right;\">\n",
       "      <th></th>\n",
       "      <th>user</th>\n",
       "      <th>item</th>\n",
       "      <th>prediction</th>\n",
       "      <th>0</th>\n",
       "      <th>1</th>\n",
       "      <th>2</th>\n",
       "      <th>3</th>\n",
       "      <th>4</th>\n",
       "      <th>5</th>\n",
       "      <th>6</th>\n",
       "      <th>7</th>\n",
       "      <th>8</th>\n",
       "      <th>9</th>\n",
       "      <th>rank</th>\n",
       "    </tr>\n",
       "  </thead>\n",
       "  <tbody>\n",
       "    <tr>\n",
       "      <th>64156</th>\n",
       "      <td>19</td>\n",
       "      <td>1</td>\n",
       "      <td>16.948305</td>\n",
       "      <td>-1.548257</td>\n",
       "      <td>-0.045319</td>\n",
       "      <td>-0.751157</td>\n",
       "      <td>-0.052875</td>\n",
       "      <td>-0.269830</td>\n",
       "      <td>-0.144795</td>\n",
       "      <td>0.038999</td>\n",
       "      <td>0.271114</td>\n",
       "      <td>-0.051169</td>\n",
       "      <td>-0.001139</td>\n",
       "      <td>34.0</td>\n",
       "    </tr>\n",
       "    <tr>\n",
       "      <th>139836</th>\n",
       "      <td>19</td>\n",
       "      <td>2</td>\n",
       "      <td>6.722043</td>\n",
       "      <td>0.027513</td>\n",
       "      <td>0.485471</td>\n",
       "      <td>-0.346955</td>\n",
       "      <td>0.000182</td>\n",
       "      <td>-0.142327</td>\n",
       "      <td>0.497053</td>\n",
       "      <td>-0.287489</td>\n",
       "      <td>0.104881</td>\n",
       "      <td>0.317564</td>\n",
       "      <td>0.090711</td>\n",
       "      <td>137.0</td>\n",
       "    </tr>\n",
       "    <tr>\n",
       "      <th>74648</th>\n",
       "      <td>19</td>\n",
       "      <td>7</td>\n",
       "      <td>0.923936</td>\n",
       "      <td>0.742481</td>\n",
       "      <td>0.516058</td>\n",
       "      <td>-0.255549</td>\n",
       "      <td>-0.734636</td>\n",
       "      <td>0.162527</td>\n",
       "      <td>0.386711</td>\n",
       "      <td>0.736182</td>\n",
       "      <td>-0.175698</td>\n",
       "      <td>-0.183765</td>\n",
       "      <td>-0.417835</td>\n",
       "      <td>402.0</td>\n",
       "    </tr>\n",
       "    <tr>\n",
       "      <th>44892</th>\n",
       "      <td>19</td>\n",
       "      <td>10</td>\n",
       "      <td>3.437130</td>\n",
       "      <td>0.621873</td>\n",
       "      <td>0.226003</td>\n",
       "      <td>-0.007399</td>\n",
       "      <td>0.356428</td>\n",
       "      <td>-1.044707</td>\n",
       "      <td>-0.239429</td>\n",
       "      <td>0.115518</td>\n",
       "      <td>0.329110</td>\n",
       "      <td>0.168624</td>\n",
       "      <td>0.104404</td>\n",
       "      <td>264.0</td>\n",
       "    </tr>\n",
       "    <tr>\n",
       "      <th>109908</th>\n",
       "      <td>19</td>\n",
       "      <td>16</td>\n",
       "      <td>-3.609928</td>\n",
       "      <td>0.543101</td>\n",
       "      <td>0.711567</td>\n",
       "      <td>0.138870</td>\n",
       "      <td>0.039406</td>\n",
       "      <td>0.000091</td>\n",
       "      <td>0.020364</td>\n",
       "      <td>-0.194478</td>\n",
       "      <td>-0.451202</td>\n",
       "      <td>0.005932</td>\n",
       "      <td>-0.367209</td>\n",
       "      <td>678.0</td>\n",
       "    </tr>\n",
       "  </tbody>\n",
       "</table>\n",
       "</div>"
      ],
      "text/plain": [
       "        user  item  prediction         0         1         2         3  \\\n",
       "64156     19     1   16.948305 -1.548257 -0.045319 -0.751157 -0.052875   \n",
       "139836    19     2    6.722043  0.027513  0.485471 -0.346955  0.000182   \n",
       "74648     19     7    0.923936  0.742481  0.516058 -0.255549 -0.734636   \n",
       "44892     19    10    3.437130  0.621873  0.226003 -0.007399  0.356428   \n",
       "109908    19    16   -3.609928  0.543101  0.711567  0.138870  0.039406   \n",
       "\n",
       "               4         5         6         7         8         9   rank  \n",
       "64156  -0.269830 -0.144795  0.038999  0.271114 -0.051169 -0.001139   34.0  \n",
       "139836 -0.142327  0.497053 -0.287489  0.104881  0.317564  0.090711  137.0  \n",
       "74648   0.162527  0.386711  0.736182 -0.175698 -0.183765 -0.417835  402.0  \n",
       "44892  -1.044707 -0.239429  0.115518  0.329110  0.168624  0.104404  264.0  \n",
       "109908  0.000091  0.020364 -0.194478 -0.451202  0.005932 -0.367209  678.0  "
      ]
     },
     "execution_count": 16,
     "metadata": {},
     "output_type": "execute_result"
    }
   ],
   "source": [
    "all_preds_feats.sort_values(['user', 'item']).head()"
   ]
  },
  {
   "cell_type": "code",
   "execution_count": 17,
   "metadata": {},
   "outputs": [],
   "source": [
    "hat_ratings = np.dot(algo_als_hat.user_features_, algo_als_hat.item_features_.T) \n",
    "\n",
    "#hat_ratings_df = pd.DataFrame(hat_ratings)\n",
    "max_idx = np.argmax(hat_ratings, axis=1)\n",
    "top_items=algo_als.item_features_[max_idx]"
   ]
  },
  {
   "cell_type": "code",
   "execution_count": 18,
   "metadata": {},
   "outputs": [
    {
     "data": {
      "text/plain": [
       "array([ 981,  726,  187,  777,  107,  726,  726,  726,  107,  777,  726,\n",
       "        107,  777,  777,  777,  777,  777,  187,  777,  726,  777,  107,\n",
       "        777,  777,  726,  726,  777,  107,  107,  726,  107,  107,  107,\n",
       "        726,  726,  726,  107,  777,  187,  107,  726,  777,  107,  107,\n",
       "        726,  777,  726,  726,  726,  777,  726,  777,  107,  726, 1036,\n",
       "        777,  777,  726,  726,  777,  107,  107,  726,  726,  777,  726,\n",
       "        726,  107,  107,  726,  777,  777,  107,  777,  777,  726,  726,\n",
       "        107,  777, 1036,  726,  726,  726,  726,  777,  107,  726,  726,\n",
       "        107,  777,  777,  777,  777,  777,  726,  981,  726,  777,  726,\n",
       "        107,  107,  187,  107,  777,  777,  777,  777,  107,  777,  107,\n",
       "        726,  777,  107,  777,  107,  726,  777,  107,  726,  777,  107,\n",
       "        726,  107,  777,  187,  107,  107,  777,  107,  777,  777,  726,\n",
       "        282,  107,  187,  726,  777,  726,  107,  726,  777,  107,  187,\n",
       "        777,  726,  107,  777,  726,  981,  726,  107,  107,  777,  726,\n",
       "        726,  777,  726,  892,  777,  777,  777,  726,  107,  777,  187,\n",
       "        726,  726,  726,  107,  726,  107,  187])"
      ]
     },
     "execution_count": 18,
     "metadata": {},
     "output_type": "execute_result"
    }
   ],
   "source": [
    "max_idx"
   ]
  },
  {
   "cell_type": "code",
   "execution_count": 53,
   "metadata": {},
   "outputs": [
    {
     "data": {
      "text/plain": [
       "(100, 1060)"
      ]
     },
     "execution_count": 53,
     "metadata": {},
     "output_type": "execute_result"
    }
   ],
   "source": [
    "\n",
    "\n",
    "ind.shape"
   ]
  },
  {
   "cell_type": "code",
   "execution_count": 63,
   "metadata": {},
   "outputs": [
    {
     "data": {
      "text/plain": [
       "(172, 100)"
      ]
     },
     "execution_count": 63,
     "metadata": {},
     "output_type": "execute_result"
    }
   ],
   "source": [
    "#hat_ratings.shape\n",
    "ind=np.argpartition(hat_ratings,-top_n_limit)[:,-top_n_limit:]\n",
    "ind.shape"
   ]
  },
  {
   "cell_type": "code",
   "execution_count": null,
   "metadata": {},
   "outputs": [],
   "source": []
  },
  {
   "cell_type": "code",
   "execution_count": 43,
   "metadata": {},
   "outputs": [],
   "source": []
  },
  {
   "cell_type": "code",
   "execution_count": 48,
   "metadata": {},
   "outputs": [
    {
     "name": "stdout",
     "output_type": "stream",
     "text": [
      "[   5  268   48   81  448  601   48  601   78  448  607  448  279   45\n",
      "  279 1032  268  401  448  601   61   79   64  448  132  601  448  279\n",
      "  448  601  448  448  448   25  601  601  355  132  401  401  601  268\n",
      "  448  448  601  398   26  601  166  279  601  398  143   34  941  125\n",
      "  166  106   48  555  279  401  601  601  448   26  601   78  401  601\n",
      "   81  601  355  448  448  601  601  448  448   42  239  416  601  601\n",
      "  448  448  601  601  448  448   61  448  125   61   48   48   85  448\n",
      "  166  401  448   48  448 1032  279   81  398  448  398  172  601  601\n",
      "  448  448  448   26  125  172  601  448  279  601  448   38   78  448\n",
      "  448  279  279   61   61   48  131  448   48    5  601  601  401  150\n",
      "  448  279   79  448  601   81  102   26   37   26  448  172  125  601\n",
      "  601  132   26  106  448  166  125  166  279  448  106  601  601  607\n",
      "  448  601   81   78]\n"
     ]
    }
   ],
   "source": [
    "max_idx = np.argmax(hat_ratings, axis=1)\n",
    "print(max_idx)"
   ]
  },
  {
   "cell_type": "code",
   "execution_count": 73,
   "metadata": {},
   "outputs": [],
   "source": [
    "t=np.repeat(np.arange(0,len(item_features)), len(user_features)).reshape(len(user_features), len(item_features))"
   ]
  },
  {
   "cell_type": "code",
   "execution_count": 81,
   "metadata": {},
   "outputs": [
    {
     "data": {
      "text/plain": [
       "(172, 100)"
      ]
     },
     "execution_count": 81,
     "metadata": {},
     "output_type": "execute_result"
    }
   ],
   "source": [
    "n_ratings = np.take(hat_ratings, ind)\n",
    "n_ratings.shape"
   ]
  },
  {
   "cell_type": "code",
   "execution_count": 87,
   "metadata": {},
   "outputs": [
    {
     "name": "stdout",
     "output_type": "stream",
     "text": [
      "171\n",
      "172\n"
     ]
    }
   ],
   "source": [
    "print(idx)\n",
    "print(ind[idx, most_distant])"
   ]
  },
  {
   "cell_type": "code",
   "execution_count": 95,
   "metadata": {},
   "outputs": [
    {
     "data": {
      "text/plain": [
       "26"
      ]
     },
     "execution_count": 95,
     "metadata": {},
     "output_type": "execute_result"
    }
   ],
   "source": [
    "user_max"
   ]
  },
  {
   "cell_type": "code",
   "execution_count": 96,
   "metadata": {},
   "outputs": [
    {
     "data": {
      "text/plain": [
       "-12.168566346936586"
      ]
     },
     "execution_count": 96,
     "metadata": {},
     "output_type": "execute_result"
    }
   ],
   "source": [
    "n_ratings[idx][user_max]"
   ]
  },
  {
   "cell_type": "code",
   "execution_count": 97,
   "metadata": {},
   "outputs": [
    {
     "name": "stdout",
     "output_type": "stream",
     "text": [
      "908\n"
     ]
    }
   ],
   "source": [
    "orig_idx = ind[idx, user_max]\n",
    "print(orig_idx)"
   ]
  },
  {
   "cell_type": "code",
   "execution_count": 98,
   "metadata": {},
   "outputs": [
    {
     "data": {
      "text/plain": [
       "-12.168566346936586"
      ]
     },
     "execution_count": 98,
     "metadata": {},
     "output_type": "execute_result"
    }
   ],
   "source": [
    "hat_ratings[idx, orig_idx]"
   ]
  },
  {
   "cell_type": "code",
   "execution_count": 94,
   "metadata": {},
   "outputs": [
    {
     "name": "stdout",
     "output_type": "stream",
     "text": [
      "172\n",
      "908\n"
     ]
    }
   ],
   "source": [
    "print(np.argmax(hat_ratings, axis=1)[idx])\n",
    "print(ind[idx, max_idx[idx]])"
   ]
  },
  {
   "cell_type": "code",
   "execution_count": 99,
   "metadata": {},
   "outputs": [
    {
     "ename": "ValueError",
     "evalue": "Incompatible dimension for X and Y matrices: X.shape[1] == 1 while Y.shape[1] == 10",
     "output_type": "error",
     "traceback": [
      "\u001b[0;31m---------------------------------------------------------------------------\u001b[0m",
      "\u001b[0;31mValueError\u001b[0m                                Traceback (most recent call last)",
      "\u001b[0;32m<ipython-input-99-2d4a8d39c0bf>\u001b[0m in \u001b[0;36m<module>\u001b[0;34m\u001b[0m\n\u001b[1;32m     50\u001b[0m         \u001b[0muser_item_feats\u001b[0m\u001b[0;34m[\u001b[0m\u001b[0mrecs_idxs\u001b[0m\u001b[0;34m]\u001b[0m\u001b[0;34m=\u001b[0m\u001b[0mcentroid\u001b[0m\u001b[0;34m\u001b[0m\u001b[0;34m\u001b[0m\u001b[0m\n\u001b[1;32m     51\u001b[0m \u001b[0;34m\u001b[0m\u001b[0m\n\u001b[0;32m---> 52\u001b[0;31m         \u001b[0md\u001b[0m \u001b[0;34m=\u001b[0m \u001b[0mpairwise_distances\u001b[0m\u001b[0;34m(\u001b[0m\u001b[0mX\u001b[0m\u001b[0;34m=\u001b[0m\u001b[0mcentroid\u001b[0m\u001b[0;34m,\u001b[0m \u001b[0mY\u001b[0m\u001b[0;34m=\u001b[0m\u001b[0muser_item_feats\u001b[0m\u001b[0;34m,\u001b[0m \u001b[0mmetric\u001b[0m\u001b[0;34m=\u001b[0m\u001b[0;34m'cityblock'\u001b[0m\u001b[0;34m,\u001b[0m\u001b[0mforce_all_finite\u001b[0m\u001b[0;34m=\u001b[0m\u001b[0;34m'allow_nan'\u001b[0m \u001b[0;34m)\u001b[0m\u001b[0;34m\u001b[0m\u001b[0;34m\u001b[0m\u001b[0m\n\u001b[0m\u001b[1;32m     53\u001b[0m         \u001b[0mmost_distant\u001b[0m \u001b[0;34m=\u001b[0m \u001b[0mnp\u001b[0m\u001b[0;34m.\u001b[0m\u001b[0margmax\u001b[0m\u001b[0;34m(\u001b[0m\u001b[0md\u001b[0m\u001b[0;34m)\u001b[0m\u001b[0;34m\u001b[0m\u001b[0;34m\u001b[0m\u001b[0m\n\u001b[1;32m     54\u001b[0m \u001b[0;34m\u001b[0m\u001b[0m\n",
      "\u001b[0;32m/opt/anaconda3/envs/t_recs/lib/python3.7/site-packages/sklearn/utils/validation.py\u001b[0m in \u001b[0;36minner_f\u001b[0;34m(*args, **kwargs)\u001b[0m\n\u001b[1;32m     70\u001b[0m                           FutureWarning)\n\u001b[1;32m     71\u001b[0m         \u001b[0mkwargs\u001b[0m\u001b[0;34m.\u001b[0m\u001b[0mupdate\u001b[0m\u001b[0;34m(\u001b[0m\u001b[0;34m{\u001b[0m\u001b[0mk\u001b[0m\u001b[0;34m:\u001b[0m \u001b[0marg\u001b[0m \u001b[0;32mfor\u001b[0m \u001b[0mk\u001b[0m\u001b[0;34m,\u001b[0m \u001b[0marg\u001b[0m \u001b[0;32min\u001b[0m \u001b[0mzip\u001b[0m\u001b[0;34m(\u001b[0m\u001b[0msig\u001b[0m\u001b[0;34m.\u001b[0m\u001b[0mparameters\u001b[0m\u001b[0;34m,\u001b[0m \u001b[0margs\u001b[0m\u001b[0;34m)\u001b[0m\u001b[0;34m}\u001b[0m\u001b[0;34m)\u001b[0m\u001b[0;34m\u001b[0m\u001b[0;34m\u001b[0m\u001b[0m\n\u001b[0;32m---> 72\u001b[0;31m         \u001b[0;32mreturn\u001b[0m \u001b[0mf\u001b[0m\u001b[0;34m(\u001b[0m\u001b[0;34m**\u001b[0m\u001b[0mkwargs\u001b[0m\u001b[0;34m)\u001b[0m\u001b[0;34m\u001b[0m\u001b[0;34m\u001b[0m\u001b[0m\n\u001b[0m\u001b[1;32m     73\u001b[0m     \u001b[0;32mreturn\u001b[0m \u001b[0minner_f\u001b[0m\u001b[0;34m\u001b[0m\u001b[0;34m\u001b[0m\u001b[0m\n\u001b[1;32m     74\u001b[0m \u001b[0;34m\u001b[0m\u001b[0m\n",
      "\u001b[0;32m/opt/anaconda3/envs/t_recs/lib/python3.7/site-packages/sklearn/metrics/pairwise.py\u001b[0m in \u001b[0;36mpairwise_distances\u001b[0;34m(X, Y, metric, n_jobs, force_all_finite, **kwds)\u001b[0m\n\u001b[1;32m   1777\u001b[0m         \u001b[0mfunc\u001b[0m \u001b[0;34m=\u001b[0m \u001b[0mpartial\u001b[0m\u001b[0;34m(\u001b[0m\u001b[0mdistance\u001b[0m\u001b[0;34m.\u001b[0m\u001b[0mcdist\u001b[0m\u001b[0;34m,\u001b[0m \u001b[0mmetric\u001b[0m\u001b[0;34m=\u001b[0m\u001b[0mmetric\u001b[0m\u001b[0;34m,\u001b[0m \u001b[0;34m**\u001b[0m\u001b[0mkwds\u001b[0m\u001b[0;34m)\u001b[0m\u001b[0;34m\u001b[0m\u001b[0;34m\u001b[0m\u001b[0m\n\u001b[1;32m   1778\u001b[0m \u001b[0;34m\u001b[0m\u001b[0m\n\u001b[0;32m-> 1779\u001b[0;31m     \u001b[0;32mreturn\u001b[0m \u001b[0m_parallel_pairwise\u001b[0m\u001b[0;34m(\u001b[0m\u001b[0mX\u001b[0m\u001b[0;34m,\u001b[0m \u001b[0mY\u001b[0m\u001b[0;34m,\u001b[0m \u001b[0mfunc\u001b[0m\u001b[0;34m,\u001b[0m \u001b[0mn_jobs\u001b[0m\u001b[0;34m,\u001b[0m \u001b[0;34m**\u001b[0m\u001b[0mkwds\u001b[0m\u001b[0;34m)\u001b[0m\u001b[0;34m\u001b[0m\u001b[0;34m\u001b[0m\u001b[0m\n\u001b[0m\u001b[1;32m   1780\u001b[0m \u001b[0;34m\u001b[0m\u001b[0m\n\u001b[1;32m   1781\u001b[0m \u001b[0;34m\u001b[0m\u001b[0m\n",
      "\u001b[0;32m/opt/anaconda3/envs/t_recs/lib/python3.7/site-packages/sklearn/metrics/pairwise.py\u001b[0m in \u001b[0;36m_parallel_pairwise\u001b[0;34m(X, Y, func, n_jobs, **kwds)\u001b[0m\n\u001b[1;32m   1358\u001b[0m \u001b[0;34m\u001b[0m\u001b[0m\n\u001b[1;32m   1359\u001b[0m     \u001b[0;32mif\u001b[0m \u001b[0meffective_n_jobs\u001b[0m\u001b[0;34m(\u001b[0m\u001b[0mn_jobs\u001b[0m\u001b[0;34m)\u001b[0m \u001b[0;34m==\u001b[0m \u001b[0;36m1\u001b[0m\u001b[0;34m:\u001b[0m\u001b[0;34m\u001b[0m\u001b[0;34m\u001b[0m\u001b[0m\n\u001b[0;32m-> 1360\u001b[0;31m         \u001b[0;32mreturn\u001b[0m \u001b[0mfunc\u001b[0m\u001b[0;34m(\u001b[0m\u001b[0mX\u001b[0m\u001b[0;34m,\u001b[0m \u001b[0mY\u001b[0m\u001b[0;34m,\u001b[0m \u001b[0;34m**\u001b[0m\u001b[0mkwds\u001b[0m\u001b[0;34m)\u001b[0m\u001b[0;34m\u001b[0m\u001b[0;34m\u001b[0m\u001b[0m\n\u001b[0m\u001b[1;32m   1361\u001b[0m \u001b[0;34m\u001b[0m\u001b[0m\n\u001b[1;32m   1362\u001b[0m     \u001b[0;31m# enforce a threading backend to prevent data communication overhead\u001b[0m\u001b[0;34m\u001b[0m\u001b[0;34m\u001b[0m\u001b[0;34m\u001b[0m\u001b[0m\n",
      "\u001b[0;32m/opt/anaconda3/envs/t_recs/lib/python3.7/site-packages/sklearn/utils/validation.py\u001b[0m in \u001b[0;36minner_f\u001b[0;34m(*args, **kwargs)\u001b[0m\n\u001b[1;32m     70\u001b[0m                           FutureWarning)\n\u001b[1;32m     71\u001b[0m         \u001b[0mkwargs\u001b[0m\u001b[0;34m.\u001b[0m\u001b[0mupdate\u001b[0m\u001b[0;34m(\u001b[0m\u001b[0;34m{\u001b[0m\u001b[0mk\u001b[0m\u001b[0;34m:\u001b[0m \u001b[0marg\u001b[0m \u001b[0;32mfor\u001b[0m \u001b[0mk\u001b[0m\u001b[0;34m,\u001b[0m \u001b[0marg\u001b[0m \u001b[0;32min\u001b[0m \u001b[0mzip\u001b[0m\u001b[0;34m(\u001b[0m\u001b[0msig\u001b[0m\u001b[0;34m.\u001b[0m\u001b[0mparameters\u001b[0m\u001b[0;34m,\u001b[0m \u001b[0margs\u001b[0m\u001b[0;34m)\u001b[0m\u001b[0;34m}\u001b[0m\u001b[0;34m)\u001b[0m\u001b[0;34m\u001b[0m\u001b[0;34m\u001b[0m\u001b[0m\n\u001b[0;32m---> 72\u001b[0;31m         \u001b[0;32mreturn\u001b[0m \u001b[0mf\u001b[0m\u001b[0;34m(\u001b[0m\u001b[0;34m**\u001b[0m\u001b[0mkwargs\u001b[0m\u001b[0;34m)\u001b[0m\u001b[0;34m\u001b[0m\u001b[0;34m\u001b[0m\u001b[0m\n\u001b[0m\u001b[1;32m     73\u001b[0m     \u001b[0;32mreturn\u001b[0m \u001b[0minner_f\u001b[0m\u001b[0;34m\u001b[0m\u001b[0;34m\u001b[0m\u001b[0m\n\u001b[1;32m     74\u001b[0m \u001b[0;34m\u001b[0m\u001b[0m\n",
      "\u001b[0;32m/opt/anaconda3/envs/t_recs/lib/python3.7/site-packages/sklearn/metrics/pairwise.py\u001b[0m in \u001b[0;36mmanhattan_distances\u001b[0;34m(X, Y, sum_over_features)\u001b[0m\n\u001b[1;32m    779\u001b[0m            [1., 1.]])\n\u001b[1;32m    780\u001b[0m     \"\"\"\n\u001b[0;32m--> 781\u001b[0;31m     \u001b[0mX\u001b[0m\u001b[0;34m,\u001b[0m \u001b[0mY\u001b[0m \u001b[0;34m=\u001b[0m \u001b[0mcheck_pairwise_arrays\u001b[0m\u001b[0;34m(\u001b[0m\u001b[0mX\u001b[0m\u001b[0;34m,\u001b[0m \u001b[0mY\u001b[0m\u001b[0;34m)\u001b[0m\u001b[0;34m\u001b[0m\u001b[0;34m\u001b[0m\u001b[0m\n\u001b[0m\u001b[1;32m    782\u001b[0m \u001b[0;34m\u001b[0m\u001b[0m\n\u001b[1;32m    783\u001b[0m     \u001b[0;32mif\u001b[0m \u001b[0missparse\u001b[0m\u001b[0;34m(\u001b[0m\u001b[0mX\u001b[0m\u001b[0;34m)\u001b[0m \u001b[0;32mor\u001b[0m \u001b[0missparse\u001b[0m\u001b[0;34m(\u001b[0m\u001b[0mY\u001b[0m\u001b[0;34m)\u001b[0m\u001b[0;34m:\u001b[0m\u001b[0;34m\u001b[0m\u001b[0;34m\u001b[0m\u001b[0m\n",
      "\u001b[0;32m/opt/anaconda3/envs/t_recs/lib/python3.7/site-packages/sklearn/utils/validation.py\u001b[0m in \u001b[0;36minner_f\u001b[0;34m(*args, **kwargs)\u001b[0m\n\u001b[1;32m     70\u001b[0m                           FutureWarning)\n\u001b[1;32m     71\u001b[0m         \u001b[0mkwargs\u001b[0m\u001b[0;34m.\u001b[0m\u001b[0mupdate\u001b[0m\u001b[0;34m(\u001b[0m\u001b[0;34m{\u001b[0m\u001b[0mk\u001b[0m\u001b[0;34m:\u001b[0m \u001b[0marg\u001b[0m \u001b[0;32mfor\u001b[0m \u001b[0mk\u001b[0m\u001b[0;34m,\u001b[0m \u001b[0marg\u001b[0m \u001b[0;32min\u001b[0m \u001b[0mzip\u001b[0m\u001b[0;34m(\u001b[0m\u001b[0msig\u001b[0m\u001b[0;34m.\u001b[0m\u001b[0mparameters\u001b[0m\u001b[0;34m,\u001b[0m \u001b[0margs\u001b[0m\u001b[0;34m)\u001b[0m\u001b[0;34m}\u001b[0m\u001b[0;34m)\u001b[0m\u001b[0;34m\u001b[0m\u001b[0;34m\u001b[0m\u001b[0m\n\u001b[0;32m---> 72\u001b[0;31m         \u001b[0;32mreturn\u001b[0m \u001b[0mf\u001b[0m\u001b[0;34m(\u001b[0m\u001b[0;34m**\u001b[0m\u001b[0mkwargs\u001b[0m\u001b[0;34m)\u001b[0m\u001b[0;34m\u001b[0m\u001b[0;34m\u001b[0m\u001b[0m\n\u001b[0m\u001b[1;32m     73\u001b[0m     \u001b[0;32mreturn\u001b[0m \u001b[0minner_f\u001b[0m\u001b[0;34m\u001b[0m\u001b[0;34m\u001b[0m\u001b[0m\n\u001b[1;32m     74\u001b[0m \u001b[0;34m\u001b[0m\u001b[0m\n",
      "\u001b[0;32m/opt/anaconda3/envs/t_recs/lib/python3.7/site-packages/sklearn/metrics/pairwise.py\u001b[0m in \u001b[0;36mcheck_pairwise_arrays\u001b[0;34m(X, Y, precomputed, dtype, accept_sparse, force_all_finite, copy)\u001b[0m\n\u001b[1;32m    159\u001b[0m         raise ValueError(\"Incompatible dimension for X and Y matrices: \"\n\u001b[1;32m    160\u001b[0m                          \"X.shape[1] == %d while Y.shape[1] == %d\" % (\n\u001b[0;32m--> 161\u001b[0;31m                              X.shape[1], Y.shape[1]))\n\u001b[0m\u001b[1;32m    162\u001b[0m \u001b[0;34m\u001b[0m\u001b[0m\n\u001b[1;32m    163\u001b[0m     \u001b[0;32mreturn\u001b[0m \u001b[0mX\u001b[0m\u001b[0;34m,\u001b[0m \u001b[0mY\u001b[0m\u001b[0;34m\u001b[0m\u001b[0;34m\u001b[0m\u001b[0m\n",
      "\u001b[0;31mValueError\u001b[0m: Incompatible dimension for X and Y matrices: X.shape[1] == 1 while Y.shape[1] == 10"
     ]
    }
   ],
   "source": [
    "top_n_limit = 100\n",
    "n_recs = 10\n",
    "user_features = algo_als_hat.user_features_\n",
    "item_features = algo_als_hat.item_features_\n",
    "\n",
    "#def latent_factors_diversification(user_features, )\n",
    "\n",
    "\n",
    "\n",
    "hat_ratings = np.dot(user_features, item_features.T) \n",
    "\n",
    "if top_n_limit:\n",
    "    #if constraining by top n, only retain the top n ratings within each user\n",
    "    ind=np.argpartition(hat_ratings,-top_n_limit)[:,-top_n_limit:]\n",
    "    n_ratings = np.take(hat_ratings, ind)\n",
    "else:\n",
    "    ind=np.repeat(np.arange(0,len(item_features)), len(user_features)).reshape(len(user_features), len(item_features))\n",
    "    n_ratings = hat_ratings\n",
    "    \n",
    "    \n",
    "\n",
    "\n",
    "user_recs = dict()\n",
    "for idx, user in enumerate(unique_users):\n",
    "    \n",
    "    user_item_feats = item_features[ind[idx]]\n",
    "    \n",
    "    max_idx = np.argmax(n_ratings, axis=1)\n",
    "    top_items=item_features[max_idx]\n",
    "    \n",
    "    #get the top rec and add that as the first item for each user\n",
    "    user_max = max_idx[idx]\n",
    "    recs_features = top_items[idx]\n",
    "    recs_idxs = [max_idx[idx]]\n",
    "    recs_preds = [n_ratings[idx][user_max]]\n",
    "    orig_recs_idx = [ind[idx, user_max]]\n",
    "    \n",
    "    \n",
    "    \n",
    "    for rec in range(1,n_recs-1):\n",
    "        if rec == 0:\n",
    "            centroid = recs_features\n",
    "        else:\n",
    "            centroid = np.nanmean(recs_features, axis=0)\n",
    "            \n",
    "        centroid = centroid.reshape(1, -1)\n",
    "        \n",
    "        #set all the previously chosen item features to the centroid, so they will not be selected again\n",
    "        #don't want to just remove rows because it will throw of the indexing\n",
    "        user_item_feats[recs_idxs]=centroid\n",
    "\n",
    "        d = pairwise_distances(X=centroid, Y=user_item_feats, metric='cityblock',force_all_finite='allow_nan' )\n",
    "        most_distant = np.argmax(d)\n",
    "        \n",
    "        recs_idxs.append(most_distant)\n",
    "        #get the item index from the original array of indices, not the constrained array\n",
    "        orig_recs_idxs.append(ind[idx, most_distant])\n",
    "        recs_preds.append(n_ratings[idx][most_distant])\n",
    "        \n",
    "        recs_features = np.vstack((recs_features, user_item_feats[most_distant]))\n",
    "   \n",
    "        \n",
    "    user_recs[user]={'original_idx':orig_recs_idx,\n",
    "                    'recs_idx':recs_idx,\n",
    "                    'recs_features':recs_features,\n",
    "                    'recs_preds':recs_preds}\n",
    "    #[orig_recs_idx, recs_idxs, recs_features, recs_preds]\n",
    "\n",
    "    \n",
    "    \n",
    "    \n",
    "    \n",
    "    "
   ]
  },
  {
   "cell_type": "code",
   "execution_count": null,
   "metadata": {},
   "outputs": [],
   "source": [
    "# item_features=pd.DataFrame(algo_als.item_features_)\n",
    "# item_features_hat=pd.DataFrame(algo_als_hat.item_features_)\n",
    "# n_feature=0\n",
    "\n",
    "# item_hat = item_features[n_feature].tolist()\n",
    "# item_actual = item_features_hat[n_feature].tolist()\n",
    "\n",
    "# plt.plot(item_hat, item_actual, 'o', color='black');\n",
    "# plt.xlabel(\"predicted factors\")\n",
    "# plt.ylabel(\"actual factors\")\n",
    "# plt.title(\"association between actual factors and hat factors\")\n",
    "\n",
    "# plt.show()"
   ]
  },
  {
   "cell_type": "code",
   "execution_count": null,
   "metadata": {},
   "outputs": [],
   "source": [
    "font = {'family' : 'normal',\n",
    "        'weight' : 'bold',\n",
    "        'size'   : 12}\n",
    "\n",
    "plt.rc('font', **font)\n",
    "\n",
    "n_features = list(range(0,10))\n",
    "fig, axs = plt.subplots(math.ceil(len(n_features)/3), 3, figsize=(20,20))\n",
    "plt.subplots_adjust(top=0.92, bottom=0.08, left=0.10, right=0.95, hspace=0.25,\n",
    "                    wspace=0.35)\n",
    "fig.suptitle('Actual vs. Hat Representation for Item Factors', size=20)\n",
    "\n",
    "for idx, n_feature in enumerate(n_features):\n",
    "    r=idx //3\n",
    "    c=idx % 3\n",
    "\n",
    "    item_hat = item_features[n_feature].tolist()\n",
    "    item_actual = item_features_hat[n_feature].tolist()\n",
    "    axs[r, c].set_title('Factor {}'.format(n_feature))\n",
    "\n",
    "    axs[r,c].plot(item_hat, item_actual, 'o', color='blue');\n",
    "\n",
    "for ax in axs.flat:\n",
    "    ax.set(xlabel='hat representation', ylabel='actual representation')\n",
    "\n",
    "# Hide x labels and tick labels for top plots and y ticks for right plots.\n",
    "#for ax in axs.flat:\n",
    "#    ax.label_outer()\n",
    "\n",
    "fig.delaxes(axs[3][1])\n",
    "fig.delaxes(axs[3][2])\n"
   ]
  },
  {
   "cell_type": "code",
   "execution_count": null,
   "metadata": {},
   "outputs": [],
   "source": [
    "font = {'family' : 'normal',\n",
    "        'weight' : 'bold',\n",
    "        'size'   : 12}\n",
    "\n",
    "plt.rc('font', **font)\n",
    "\n",
    "n_features = list(range(0,10))\n",
    "fig, axs = plt.subplots(math.ceil(len(n_features)/3), 3, figsize=(20,20))\n",
    "plt.subplots_adjust(top=0.92, bottom=0.08, left=0.10, right=0.95, hspace=0.25,\n",
    "                    wspace=0.35)\n",
    "fig.suptitle('Actual vs. Hat Representation for User Factors', size=20)\n",
    "\n",
    "for idx, n_feature in enumerate(n_features):\n",
    "    r=idx //3\n",
    "    c=idx % 3\n",
    "\n",
    "    user_hat = user_features[n_feature].tolist()\n",
    "    user_actual = user_features_hat[n_feature].tolist()\n",
    "    axs[r, c].set_title('Factor {}'.format(n_feature))\n",
    "\n",
    "    axs[r,c].plot(user_hat, user_actual, 'o', color='red');\n",
    "\n",
    "for ax in axs.flat:\n",
    "    ax.set(xlabel='hat representation', ylabel='actual representation')\n",
    "\n",
    "# Hide x labels and tick labels for top plots and y ticks for right plots.\n",
    "#for ax in axs.flat:\n",
    "#    ax.label_outer()\n",
    "\n",
    "fig.delaxes(axs[3][1])\n",
    "fig.delaxes(axs[3][2])"
   ]
  },
  {
   "cell_type": "code",
   "execution_count": null,
   "metadata": {},
   "outputs": [],
   "source": []
  }
 ],
 "metadata": {
  "kernelspec": {
   "display_name": "Python 3",
   "language": "python",
   "name": "python3"
  },
  "language_info": {
   "codemirror_mode": {
    "name": "ipython",
    "version": 3
   },
   "file_extension": ".py",
   "mimetype": "text/x-python",
   "name": "python",
   "nbconvert_exporter": "python",
   "pygments_lexer": "ipython3",
   "version": "3.7.9"
  }
 },
 "nbformat": 4,
 "nbformat_minor": 2
}
