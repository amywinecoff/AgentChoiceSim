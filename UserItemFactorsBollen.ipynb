{
 "cells": [
  {
   "cell_type": "code",
   "execution_count": 146,
   "metadata": {},
   "outputs": [],
   "source": [
    "import pandas as pd\n",
    "import numpy as np\n",
    "import matplotlib.pyplot as plt\n",
    "\n",
    "#from lenskit.datasets import ML100K\n",
    "from lenskit import batch, topn, util\n",
    "from lenskit import crossfold as xf\n",
    "from lenskit.algorithms import Recommender, als\n",
    "from lenskit import topn\n",
    "from lenskit.metrics.predict import rmse, mae"
   ]
  },
  {
   "cell_type": "code",
   "execution_count": 93,
   "metadata": {},
   "outputs": [],
   "source": [
    "#Load data from Bollen et al., 2010\n",
    "choice = pd.read_csv('co1_wide.csv')  \n",
    "\n",
    "\n",
    "movie_cols = ['movie'+str(num) for num in range(1,21)] +['choice']\n",
    "score_cols = ['score'+str(num) for num in range(1,21)]\n",
    "\n",
    "movies_wide = choice[movie_cols + ['userid', 'condition']].rename(columns=dict(zip(movie_cols,list(range(1,21)))))\n",
    "scores_wide = choice[score_cols + ['userid']].rename(columns=dict(zip(score_cols,list(range(1,21)))))\n",
    "\n",
    "movies_long = movies_wide.melt(id_vars=['userid', 'condition', 'choice'], var_name='array_num', value_name='movieid')\n",
    "scores_long = scores_wide.melt(id_vars=['userid'], value_vars=list(range(1,21)), var_name='array_num', value_name='score')\n",
    "\n",
    "#create the cartesian product of all unique movies and users for subsequent join\n",
    "unique_movies = list(pd.unique(movies_long['movieid']))\n",
    "unique_users = list(pd.unique(movies_long['userid']))\n",
    "index = pd.MultiIndex.from_product([unique_users, unique_movies], names = [\"userid\",\"movieid\"])\n",
    "movies_users_index = pd.DataFrame(index = index).reset_index()\n",
    "\n",
    "\n",
    "\n",
    "movies = pd.merge(movies_users_index, movies_long, how='left', on=[\"userid\", \"movieid\"])\n",
    "movies_scores = pd.merge(movies, scores_long, how='left', on=[\"userid\", \"array_num\"])\n",
    "\n",
    "movies_scores['chose_movie'] = np.where(movies_scores['choice']==movies_scores['movieid'], 1, 0)\n",
    "\n",
    "#problems due to NaN\n",
    "dups=movies_scores.duplicated(keep=False)\n",
    "\n",
    "#convert long form dataframe into format similar to ratings matrix\n",
    "R_df_long = movies_scores[['userid', 'movieid', 'score']].dropna()#form for surprise\n",
    "\n",
    "R_df_long['rating']=R_df_long['score']/10\n",
    "R_df_long['item']=R_df_long['movieid'].str.split(pat=\"/\", expand=True)[[3]].astype(int)\n",
    "\n",
    "ratings=R_df_long[['userid', 'item', 'rating']]\n",
    "ratings.columns=['user', 'item', 'rating']"
   ]
  },
  {
   "cell_type": "code",
   "execution_count": 182,
   "metadata": {},
   "outputs": [
    {
     "name": "stdout",
     "output_type": "stream",
     "text": [
      "RMSE for ALS: 0.01660285426101378\n",
      "RMSE for ALS hat: 0.2547659899443631\n",
      "MAE for ALS: 0.005854656281398418\n",
      "MAE for ALS hat: 0.12020732917684518\n"
     ]
    }
   ],
   "source": [
    "#For our first model, we want the low rank representation to approximate our data as closely as possible (i.e., overfit the data). \n",
    "#This way, our \"real\" user factors come as close as possible to user factors that could reproduce the predictions\n",
    "#from the MF algorithm in Bollen et al., 2010.\n",
    "algo_als = als.BiasedMF(10, iterations=100,reg=0.0001, bias=False, rng_spec=1)\n",
    "\n",
    "algo_als.fit(ratings)\n",
    "preds_als = batch.predict(algo_als, ratings)\n",
    "\n",
    "\n",
    "#print(\"RMSE for ALS: {}\".format(rmse(preds_als['prediction'], preds_als['rating'])))\n",
    "\n",
    "algo_als_hat = als.BiasedMF(10, iterations=3,reg=0.0001, bias=False, rng_spec=1)\n",
    "\n",
    "algo_als_hat.fit(ratings)\n",
    "preds_als_hat = batch.predict(algo_als_hat, ratings)\n",
    "\n",
    "\n",
    "print(\"RMSE for ALS: {}\".format(rmse(preds_als['prediction'], preds_als['rating'])))\n",
    "print(\"RMSE for ALS hat: {}\".format(rmse(preds_als_hat['prediction'], preds_als_hat['rating'])))\n",
    "\n",
    "print(\"MAE for ALS: {}\".format(mae(preds_als['prediction'], preds_als['rating'])))\n",
    "print(\"MAE for ALS hat: {}\".format(mae(preds_als_hat['prediction'], preds_als_hat['rating'])))\n"
   ]
  },
  {
   "cell_type": "code",
   "execution_count": 183,
   "metadata": {},
   "outputs": [
    {
     "name": "stdout",
     "output_type": "stream",
     "text": [
      "Summary statistics for 'actual' data...\n",
      "min\n",
      "user          19.000000\n",
      "item           1.000000\n",
      "rating         2.400000\n",
      "prediction     2.399999\n",
      "dtype: float64\n",
      "\n",
      "\n",
      "max\n",
      "user           251.000000\n",
      "item          3949.000000\n",
      "rating           5.000000\n",
      "prediction       5.014661\n",
      "dtype: float64\n",
      "\n",
      "\n",
      "mean\n",
      "user           143.542056\n",
      "item          1695.534579\n",
      "rating           3.685159\n",
      "prediction       3.685144\n",
      "dtype: float64\n",
      "\n",
      "\n",
      "Summary statistics for 'hat' data...\n",
      "min\n",
      "user          19.000000\n",
      "item           1.000000\n",
      "rating         2.400000\n",
      "prediction     1.254292\n",
      "dtype: float64\n",
      "\n",
      "\n",
      "max\n",
      "user           251.000000\n",
      "item          3949.000000\n",
      "rating           5.000000\n",
      "prediction       5.763938\n",
      "dtype: float64\n",
      "\n",
      "\n",
      "mean\n",
      "user           143.542056\n",
      "item          1695.534579\n",
      "rating           3.685159\n",
      "prediction       3.673479\n",
      "dtype: float64\n"
     ]
    }
   ],
   "source": [
    "print(\"Summary statistics for 'actual' data...\")\n",
    "print(\"min\")\n",
    "print(preds_als.min())\n",
    "print(\"\\n\")\n",
    "print(\"max\")\n",
    "print(preds_als.max())\n",
    "print(\"\\n\")\n",
    "print(\"mean\")\n",
    "print(preds_als.mean())\n",
    "print(\"\\n\")\n",
    "\n",
    "print(\"Summary statistics for 'hat' data...\")\n",
    "print(\"min\")\n",
    "print(preds_als_hat.min())\n",
    "print(\"\\n\")\n",
    "print(\"max\")\n",
    "print(preds_als_hat.max())\n",
    "print(\"\\n\")\n",
    "print(\"mean\")\n",
    "print(preds_als_hat.mean())"
   ]
  },
  {
   "cell_type": "code",
   "execution_count": 184,
   "metadata": {},
   "outputs": [
    {
     "data": {
      "image/png": "[encoded data removed]",
      "text/plain": [
       "<Figure size 432x288 with 1 Axes>"
      ]
     },
     "metadata": {
      "needs_background": "light"
     },
     "output_type": "display_data"
    }
   ],
   "source": [
    "item_features=pd.DataFrame(algo_als.item_features_)\n",
    "item_features_hat=pd.DataFrame(algo_als_hat.item_features_)\n",
    "n_feature=0\n",
    "\n",
    "item_hat = item_features[n_feature].tolist()\n",
    "item_actual = item_features_hat[n_feature].tolist()\n",
    "\n",
    "plt.plot(item_hat, item_actual, 'o', color='black');\n",
    "plt.xlabel(\"predicted factors\")\n",
    "plt.ylabel(\"actual factors\")\n",
    "plt.title(\"association between actual factors and hat factors\")\n",
    "\n",
    "plt.show()"
   ]
  }
 ],
 "metadata": {
  "kernelspec": {
   "display_name": "Python [conda env:t_recs]",
   "language": "python",
   "name": "conda-env-t_recs-py"
  },
  "language_info": {
   "codemirror_mode": {
    "name": "ipython",
    "version": 3
   },
   "file_extension": ".py",
   "mimetype": "text/x-python",
   "name": "python",
   "nbconvert_exporter": "python",
   "pygments_lexer": "ipython3",
   "version": "3.7.9"
  }
 },
 "nbformat": 4,
 "nbformat_minor": 2
}
